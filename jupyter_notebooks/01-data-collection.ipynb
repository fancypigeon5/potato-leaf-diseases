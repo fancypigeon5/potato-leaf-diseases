{
 "cells": [
  {
   "cell_type": "markdown",
   "metadata": {
    "id": "0aStgWSO0E0E"
   },
   "source": [
    "# **Data Collection**"
   ]
  },
  {
   "cell_type": "markdown",
   "metadata": {
    "id": "1eLEkw5O0ECa"
   },
   "source": [
    "## Objectives\n",
    "\n",
    "* Fetch data from Kaggle and prepare it for further processes.\n",
    "\n",
    "## Inputs\n",
    "\n",
    "*   Kaggle JSON file - the authentication token. \n",
    "\n",
    "## Outputs\n",
    "\n",
    "* Generate Dataset: inputs/datasets/leaves_dataset\n",
    "\n",
    "## Additional Comments\n",
    "\n",
    "* In case you have any additional comments that don't fit in the previous bullets, please state them here. \n"
   ]
  },
  {
   "cell_type": "markdown",
   "metadata": {
    "id": "9uWZXH9LwoQg"
   },
   "source": [
    "---"
   ]
  },
  {
   "cell_type": "markdown",
   "metadata": {},
   "source": [
    "# Import packages"
   ]
  },
  {
   "cell_type": "code",
   "execution_count": 1,
   "metadata": {},
   "outputs": [
    {
     "name": "stdout",
     "output_type": "stream",
     "text": [
      "Requirement already satisfied: absl-py==2.1.0 in c:\\users\\jules\\anaconda3\\envs\\potatoes\\lib\\site-packages (from -r ../requirements.txt (line 1)) (2.1.0)\n",
      "Requirement already satisfied: anyio==4.6.2.post1 in c:\\users\\jules\\anaconda3\\envs\\potatoes\\lib\\site-packages (from -r ../requirements.txt (line 2)) (4.6.2.post1)\n",
      "Requirement already satisfied: argon2-cffi==23.1.0 in c:\\users\\jules\\anaconda3\\envs\\potatoes\\lib\\site-packages (from -r ../requirements.txt (line 3)) (23.1.0)\n",
      "Requirement already satisfied: argon2-cffi-bindings==21.2.0 in c:\\users\\jules\\anaconda3\\envs\\potatoes\\lib\\site-packages (from -r ../requirements.txt (line 4)) (21.2.0)\n",
      "Requirement already satisfied: arrow==1.3.0 in c:\\users\\jules\\anaconda3\\envs\\potatoes\\lib\\site-packages (from -r ../requirements.txt (line 5)) (1.3.0)\n",
      "Requirement already satisfied: asttokens==2.4.1 in c:\\users\\jules\\anaconda3\\envs\\potatoes\\lib\\site-packages (from -r ../requirements.txt (line 6)) (2.4.1)\n",
      "Requirement already satisfied: astunparse==1.6.3 in c:\\users\\jules\\anaconda3\\envs\\potatoes\\lib\\site-packages (from -r ../requirements.txt (line 7)) (1.6.3)\n",
      "Requirement already satisfied: async-lru==2.0.4 in c:\\users\\jules\\anaconda3\\envs\\potatoes\\lib\\site-packages (from -r ../requirements.txt (line 8)) (2.0.4)\n",
      "Requirement already satisfied: attrs==24.2.0 in c:\\users\\jules\\anaconda3\\envs\\potatoes\\lib\\site-packages (from -r ../requirements.txt (line 9)) (24.2.0)\n",
      "Requirement already satisfied: babel==2.16.0 in c:\\users\\jules\\anaconda3\\envs\\potatoes\\lib\\site-packages (from -r ../requirements.txt (line 10)) (2.16.0)\n",
      "Requirement already satisfied: beautifulsoup4==4.12.3 in c:\\users\\jules\\anaconda3\\envs\\potatoes\\lib\\site-packages (from -r ../requirements.txt (line 11)) (4.12.3)\n",
      "Requirement already satisfied: bleach==6.2.0 in c:\\users\\jules\\anaconda3\\envs\\potatoes\\lib\\site-packages (from -r ../requirements.txt (line 12)) (6.2.0)\n",
      "Requirement already satisfied: certifi==2024.8.30 in c:\\users\\jules\\anaconda3\\envs\\potatoes\\lib\\site-packages (from -r ../requirements.txt (line 13)) (2024.8.30)\n",
      "Requirement already satisfied: cffi==1.17.1 in c:\\users\\jules\\anaconda3\\envs\\potatoes\\lib\\site-packages (from -r ../requirements.txt (line 14)) (1.17.1)\n",
      "Requirement already satisfied: charset-normalizer==3.4.0 in c:\\users\\jules\\anaconda3\\envs\\potatoes\\lib\\site-packages (from -r ../requirements.txt (line 15)) (3.4.0)\n",
      "Requirement already satisfied: colorama==0.4.6 in c:\\users\\jules\\anaconda3\\envs\\potatoes\\lib\\site-packages (from -r ../requirements.txt (line 16)) (0.4.6)\n",
      "Requirement already satisfied: comm==0.2.2 in c:\\users\\jules\\anaconda3\\envs\\potatoes\\lib\\site-packages (from -r ../requirements.txt (line 17)) (0.2.2)\n",
      "Requirement already satisfied: contourpy==1.3.1 in c:\\users\\jules\\anaconda3\\envs\\potatoes\\lib\\site-packages (from -r ../requirements.txt (line 18)) (1.3.1)\n",
      "Requirement already satisfied: cycler==0.12.1 in c:\\users\\jules\\anaconda3\\envs\\potatoes\\lib\\site-packages (from -r ../requirements.txt (line 19)) (0.12.1)\n",
      "Requirement already satisfied: debugpy==1.8.8 in c:\\users\\jules\\anaconda3\\envs\\potatoes\\lib\\site-packages (from -r ../requirements.txt (line 20)) (1.8.8)\n",
      "Requirement already satisfied: decorator==5.1.1 in c:\\users\\jules\\anaconda3\\envs\\potatoes\\lib\\site-packages (from -r ../requirements.txt (line 21)) (5.1.1)\n",
      "Requirement already satisfied: defusedxml==0.7.1 in c:\\users\\jules\\anaconda3\\envs\\potatoes\\lib\\site-packages (from -r ../requirements.txt (line 22)) (0.7.1)\n",
      "Requirement already satisfied: exceptiongroup==1.2.2 in c:\\users\\jules\\anaconda3\\envs\\potatoes\\lib\\site-packages (from -r ../requirements.txt (line 23)) (1.2.2)\n",
      "Requirement already satisfied: executing==2.1.0 in c:\\users\\jules\\anaconda3\\envs\\potatoes\\lib\\site-packages (from -r ../requirements.txt (line 24)) (2.1.0)\n",
      "Requirement already satisfied: fastjsonschema==2.20.0 in c:\\users\\jules\\anaconda3\\envs\\potatoes\\lib\\site-packages (from -r ../requirements.txt (line 25)) (2.20.0)\n",
      "Requirement already satisfied: flatbuffers==24.3.25 in c:\\users\\jules\\anaconda3\\envs\\potatoes\\lib\\site-packages (from -r ../requirements.txt (line 26)) (24.3.25)\n",
      "Requirement already satisfied: fonttools==4.55.0 in c:\\users\\jules\\anaconda3\\envs\\potatoes\\lib\\site-packages (from -r ../requirements.txt (line 27)) (4.55.0)\n",
      "Requirement already satisfied: fqdn==1.5.1 in c:\\users\\jules\\anaconda3\\envs\\potatoes\\lib\\site-packages (from -r ../requirements.txt (line 28)) (1.5.1)\n",
      "Requirement already satisfied: gast==0.6.0 in c:\\users\\jules\\anaconda3\\envs\\potatoes\\lib\\site-packages (from -r ../requirements.txt (line 29)) (0.6.0)\n",
      "Requirement already satisfied: google-pasta==0.2.0 in c:\\users\\jules\\anaconda3\\envs\\potatoes\\lib\\site-packages (from -r ../requirements.txt (line 30)) (0.2.0)\n",
      "Requirement already satisfied: grpcio==1.68.0 in c:\\users\\jules\\anaconda3\\envs\\potatoes\\lib\\site-packages (from -r ../requirements.txt (line 31)) (1.68.0)\n",
      "Requirement already satisfied: h11==0.14.0 in c:\\users\\jules\\anaconda3\\envs\\potatoes\\lib\\site-packages (from -r ../requirements.txt (line 32)) (0.14.0)\n",
      "Requirement already satisfied: h5py==3.12.1 in c:\\users\\jules\\anaconda3\\envs\\potatoes\\lib\\site-packages (from -r ../requirements.txt (line 33)) (3.12.1)\n",
      "Requirement already satisfied: httpcore==1.0.7 in c:\\users\\jules\\anaconda3\\envs\\potatoes\\lib\\site-packages (from -r ../requirements.txt (line 34)) (1.0.7)\n",
      "Requirement already satisfied: httpx==0.27.2 in c:\\users\\jules\\anaconda3\\envs\\potatoes\\lib\\site-packages (from -r ../requirements.txt (line 35)) (0.27.2)\n",
      "Requirement already satisfied: idna==3.10 in c:\\users\\jules\\anaconda3\\envs\\potatoes\\lib\\site-packages (from -r ../requirements.txt (line 36)) (3.10)\n",
      "Requirement already satisfied: importlib_metadata==8.5.0 in c:\\users\\jules\\anaconda3\\envs\\potatoes\\lib\\site-packages (from -r ../requirements.txt (line 37)) (8.5.0)\n",
      "Requirement already satisfied: ipykernel==6.29.5 in c:\\users\\jules\\anaconda3\\envs\\potatoes\\lib\\site-packages (from -r ../requirements.txt (line 38)) (6.29.5)\n",
      "Requirement already satisfied: ipython==8.29.0 in c:\\users\\jules\\anaconda3\\envs\\potatoes\\lib\\site-packages (from -r ../requirements.txt (line 39)) (8.29.0)\n",
      "Requirement already satisfied: ipywidgets==8.1.5 in c:\\users\\jules\\anaconda3\\envs\\potatoes\\lib\\site-packages (from -r ../requirements.txt (line 40)) (8.1.5)\n",
      "Requirement already satisfied: isoduration==20.11.0 in c:\\users\\jules\\anaconda3\\envs\\potatoes\\lib\\site-packages (from -r ../requirements.txt (line 41)) (20.11.0)\n",
      "Requirement already satisfied: jedi==0.19.2 in c:\\users\\jules\\anaconda3\\envs\\potatoes\\lib\\site-packages (from -r ../requirements.txt (line 42)) (0.19.2)\n",
      "Requirement already satisfied: Jinja2==3.1.4 in c:\\users\\jules\\anaconda3\\envs\\potatoes\\lib\\site-packages (from -r ../requirements.txt (line 43)) (3.1.4)\n",
      "Requirement already satisfied: joblib==1.4.2 in c:\\users\\jules\\anaconda3\\envs\\potatoes\\lib\\site-packages (from -r ../requirements.txt (line 44)) (1.4.2)\n",
      "Requirement already satisfied: json5==0.9.28 in c:\\users\\jules\\anaconda3\\envs\\potatoes\\lib\\site-packages (from -r ../requirements.txt (line 45)) (0.9.28)\n",
      "Requirement already satisfied: jsonpointer==3.0.0 in c:\\users\\jules\\anaconda3\\envs\\potatoes\\lib\\site-packages (from -r ../requirements.txt (line 46)) (3.0.0)\n",
      "Requirement already satisfied: jsonschema==4.23.0 in c:\\users\\jules\\anaconda3\\envs\\potatoes\\lib\\site-packages (from -r ../requirements.txt (line 47)) (4.23.0)\n",
      "Requirement already satisfied: jsonschema-specifications==2024.10.1 in c:\\users\\jules\\anaconda3\\envs\\potatoes\\lib\\site-packages (from -r ../requirements.txt (line 48)) (2024.10.1)\n",
      "Requirement already satisfied: jupyter==1.1.1 in c:\\users\\jules\\anaconda3\\envs\\potatoes\\lib\\site-packages (from -r ../requirements.txt (line 49)) (1.1.1)\n",
      "Requirement already satisfied: jupyter_client==8.6.3 in c:\\users\\jules\\anaconda3\\envs\\potatoes\\lib\\site-packages (from -r ../requirements.txt (line 50)) (8.6.3)\n",
      "Requirement already satisfied: jupyter-console==6.6.3 in c:\\users\\jules\\anaconda3\\envs\\potatoes\\lib\\site-packages (from -r ../requirements.txt (line 51)) (6.6.3)\n",
      "Requirement already satisfied: jupyter_core==5.7.2 in c:\\users\\jules\\anaconda3\\envs\\potatoes\\lib\\site-packages (from -r ../requirements.txt (line 52)) (5.7.2)\n",
      "Requirement already satisfied: jupyter-events==0.10.0 in c:\\users\\jules\\anaconda3\\envs\\potatoes\\lib\\site-packages (from -r ../requirements.txt (line 53)) (0.10.0)\n",
      "Requirement already satisfied: jupyter-lsp==2.2.5 in c:\\users\\jules\\anaconda3\\envs\\potatoes\\lib\\site-packages (from -r ../requirements.txt (line 54)) (2.2.5)\n",
      "Requirement already satisfied: jupyter_server==2.14.2 in c:\\users\\jules\\anaconda3\\envs\\potatoes\\lib\\site-packages (from -r ../requirements.txt (line 55)) (2.14.2)\n",
      "Requirement already satisfied: jupyter_server_terminals==0.5.3 in c:\\users\\jules\\anaconda3\\envs\\potatoes\\lib\\site-packages (from -r ../requirements.txt (line 56)) (0.5.3)\n",
      "Requirement already satisfied: jupyterlab==4.2.6 in c:\\users\\jules\\anaconda3\\envs\\potatoes\\lib\\site-packages (from -r ../requirements.txt (line 57)) (4.2.6)\n",
      "Requirement already satisfied: jupyterlab_pygments==0.3.0 in c:\\users\\jules\\anaconda3\\envs\\potatoes\\lib\\site-packages (from -r ../requirements.txt (line 58)) (0.3.0)\n",
      "Requirement already satisfied: jupyterlab_server==2.27.3 in c:\\users\\jules\\anaconda3\\envs\\potatoes\\lib\\site-packages (from -r ../requirements.txt (line 59)) (2.27.3)\n",
      "Requirement already satisfied: jupyterlab_widgets==3.0.13 in c:\\users\\jules\\anaconda3\\envs\\potatoes\\lib\\site-packages (from -r ../requirements.txt (line 60)) (3.0.13)\n",
      "Requirement already satisfied: kaggle==1.6.17 in c:\\users\\jules\\anaconda3\\envs\\potatoes\\lib\\site-packages (from -r ../requirements.txt (line 61)) (1.6.17)\n",
      "Requirement already satisfied: keras==3.6.0 in c:\\users\\jules\\anaconda3\\envs\\potatoes\\lib\\site-packages (from -r ../requirements.txt (line 62)) (3.6.0)\n",
      "Requirement already satisfied: kiwisolver==1.4.7 in c:\\users\\jules\\anaconda3\\envs\\potatoes\\lib\\site-packages (from -r ../requirements.txt (line 63)) (1.4.7)\n",
      "Requirement already satisfied: libclang==18.1.1 in c:\\users\\jules\\anaconda3\\envs\\potatoes\\lib\\site-packages (from -r ../requirements.txt (line 64)) (18.1.1)\n",
      "Requirement already satisfied: Markdown==3.7 in c:\\users\\jules\\anaconda3\\envs\\potatoes\\lib\\site-packages (from -r ../requirements.txt (line 65)) (3.7)\n",
      "Requirement already satisfied: markdown-it-py==3.0.0 in c:\\users\\jules\\anaconda3\\envs\\potatoes\\lib\\site-packages (from -r ../requirements.txt (line 66)) (3.0.0)\n",
      "Requirement already satisfied: MarkupSafe==3.0.2 in c:\\users\\jules\\anaconda3\\envs\\potatoes\\lib\\site-packages (from -r ../requirements.txt (line 67)) (3.0.2)\n",
      "Requirement already satisfied: matplotlib==3.9.2 in c:\\users\\jules\\anaconda3\\envs\\potatoes\\lib\\site-packages (from -r ../requirements.txt (line 68)) (3.9.2)\n",
      "Requirement already satisfied: matplotlib-inline==0.1.7 in c:\\users\\jules\\anaconda3\\envs\\potatoes\\lib\\site-packages (from -r ../requirements.txt (line 69)) (0.1.7)\n",
      "Requirement already satisfied: mdurl==0.1.2 in c:\\users\\jules\\anaconda3\\envs\\potatoes\\lib\\site-packages (from -r ../requirements.txt (line 70)) (0.1.2)\n",
      "Requirement already satisfied: mistune==3.0.2 in c:\\users\\jules\\anaconda3\\envs\\potatoes\\lib\\site-packages (from -r ../requirements.txt (line 71)) (3.0.2)\n",
      "Requirement already satisfied: ml-dtypes==0.4.1 in c:\\users\\jules\\anaconda3\\envs\\potatoes\\lib\\site-packages (from -r ../requirements.txt (line 72)) (0.4.1)\n",
      "Requirement already satisfied: namex==0.0.8 in c:\\users\\jules\\anaconda3\\envs\\potatoes\\lib\\site-packages (from -r ../requirements.txt (line 73)) (0.0.8)\n",
      "Requirement already satisfied: nbclient==0.10.0 in c:\\users\\jules\\anaconda3\\envs\\potatoes\\lib\\site-packages (from -r ../requirements.txt (line 74)) (0.10.0)\n",
      "Requirement already satisfied: nbconvert==7.16.4 in c:\\users\\jules\\anaconda3\\envs\\potatoes\\lib\\site-packages (from -r ../requirements.txt (line 75)) (7.16.4)\n",
      "Requirement already satisfied: nbformat==5.10.4 in c:\\users\\jules\\anaconda3\\envs\\potatoes\\lib\\site-packages (from -r ../requirements.txt (line 76)) (5.10.4)\n",
      "Requirement already satisfied: nest_asyncio==1.6.0 in c:\\users\\jules\\anaconda3\\envs\\potatoes\\lib\\site-packages (from -r ../requirements.txt (line 77)) (1.6.0)\n",
      "Requirement already satisfied: notebook==7.2.2 in c:\\users\\jules\\anaconda3\\envs\\potatoes\\lib\\site-packages (from -r ../requirements.txt (line 78)) (7.2.2)\n",
      "Requirement already satisfied: notebook_shim==0.2.4 in c:\\users\\jules\\anaconda3\\envs\\potatoes\\lib\\site-packages (from -r ../requirements.txt (line 79)) (0.2.4)\n",
      "Requirement already satisfied: numpy==2.0.2 in c:\\users\\jules\\anaconda3\\envs\\potatoes\\lib\\site-packages (from -r ../requirements.txt (line 80)) (2.0.2)\n",
      "Requirement already satisfied: opt_einsum==3.4.0 in c:\\users\\jules\\anaconda3\\envs\\potatoes\\lib\\site-packages (from -r ../requirements.txt (line 81)) (3.4.0)\n",
      "Requirement already satisfied: optree==0.13.1 in c:\\users\\jules\\anaconda3\\envs\\potatoes\\lib\\site-packages (from -r ../requirements.txt (line 82)) (0.13.1)\n",
      "Requirement already satisfied: overrides==7.7.0 in c:\\users\\jules\\anaconda3\\envs\\potatoes\\lib\\site-packages (from -r ../requirements.txt (line 83)) (7.7.0)\n",
      "Requirement already satisfied: packaging==24.2 in c:\\users\\jules\\anaconda3\\envs\\potatoes\\lib\\site-packages (from -r ../requirements.txt (line 84)) (24.2)\n",
      "Requirement already satisfied: pandas==2.2.3 in c:\\users\\jules\\anaconda3\\envs\\potatoes\\lib\\site-packages (from -r ../requirements.txt (line 85)) (2.2.3)\n",
      "Requirement already satisfied: pandocfilters==1.5.1 in c:\\users\\jules\\anaconda3\\envs\\potatoes\\lib\\site-packages (from -r ../requirements.txt (line 86)) (1.5.1)\n",
      "Requirement already satisfied: parso==0.8.4 in c:\\users\\jules\\anaconda3\\envs\\potatoes\\lib\\site-packages (from -r ../requirements.txt (line 87)) (0.8.4)\n",
      "Requirement already satisfied: pickleshare==0.7.5 in c:\\users\\jules\\anaconda3\\envs\\potatoes\\lib\\site-packages (from -r ../requirements.txt (line 88)) (0.7.5)\n",
      "Requirement already satisfied: pillow==11.0.0 in c:\\users\\jules\\anaconda3\\envs\\potatoes\\lib\\site-packages (from -r ../requirements.txt (line 89)) (11.0.0)\n",
      "Requirement already satisfied: pip==24.2 in c:\\users\\jules\\anaconda3\\envs\\potatoes\\lib\\site-packages (from -r ../requirements.txt (line 90)) (24.2)\n",
      "Requirement already satisfied: platformdirs==4.3.6 in c:\\users\\jules\\anaconda3\\envs\\potatoes\\lib\\site-packages (from -r ../requirements.txt (line 91)) (4.3.6)\n",
      "Requirement already satisfied: prometheus_client==0.21.0 in c:\\users\\jules\\anaconda3\\envs\\potatoes\\lib\\site-packages (from -r ../requirements.txt (line 92)) (0.21.0)\n",
      "Requirement already satisfied: prompt_toolkit==3.0.48 in c:\\users\\jules\\anaconda3\\envs\\potatoes\\lib\\site-packages (from -r ../requirements.txt (line 93)) (3.0.48)\n",
      "Requirement already satisfied: protobuf==5.28.3 in c:\\users\\jules\\anaconda3\\envs\\potatoes\\lib\\site-packages (from -r ../requirements.txt (line 94)) (5.28.3)\n",
      "Requirement already satisfied: psutil==6.1.0 in c:\\users\\jules\\anaconda3\\envs\\potatoes\\lib\\site-packages (from -r ../requirements.txt (line 95)) (6.1.0)\n",
      "Requirement already satisfied: pure_eval==0.2.3 in c:\\users\\jules\\anaconda3\\envs\\potatoes\\lib\\site-packages (from -r ../requirements.txt (line 96)) (0.2.3)\n",
      "Requirement already satisfied: pycparser==2.22 in c:\\users\\jules\\anaconda3\\envs\\potatoes\\lib\\site-packages (from -r ../requirements.txt (line 97)) (2.22)\n",
      "Requirement already satisfied: Pygments==2.18.0 in c:\\users\\jules\\anaconda3\\envs\\potatoes\\lib\\site-packages (from -r ../requirements.txt (line 98)) (2.18.0)\n",
      "Requirement already satisfied: pyparsing==3.2.0 in c:\\users\\jules\\anaconda3\\envs\\potatoes\\lib\\site-packages (from -r ../requirements.txt (line 99)) (3.2.0)\n",
      "Requirement already satisfied: python-dateutil==2.9.0.post0 in c:\\users\\jules\\anaconda3\\envs\\potatoes\\lib\\site-packages (from -r ../requirements.txt (line 100)) (2.9.0.post0)\n",
      "Requirement already satisfied: python-json-logger==2.0.7 in c:\\users\\jules\\anaconda3\\envs\\potatoes\\lib\\site-packages (from -r ../requirements.txt (line 101)) (2.0.7)\n",
      "Requirement already satisfied: python-slugify==8.0.4 in c:\\users\\jules\\anaconda3\\envs\\potatoes\\lib\\site-packages (from -r ../requirements.txt (line 102)) (8.0.4)\n",
      "Requirement already satisfied: pytz==2024.2 in c:\\users\\jules\\anaconda3\\envs\\potatoes\\lib\\site-packages (from -r ../requirements.txt (line 103)) (2024.2)\n",
      "Requirement already satisfied: pywin32==307 in c:\\users\\jules\\anaconda3\\envs\\potatoes\\lib\\site-packages (from -r ../requirements.txt (line 104)) (307)\n",
      "Requirement already satisfied: pywinpty==2.0.14 in c:\\users\\jules\\anaconda3\\envs\\potatoes\\lib\\site-packages (from -r ../requirements.txt (line 105)) (2.0.14)\n",
      "Requirement already satisfied: PyYAML==6.0.2 in c:\\users\\jules\\anaconda3\\envs\\potatoes\\lib\\site-packages (from -r ../requirements.txt (line 106)) (6.0.2)\n",
      "Requirement already satisfied: pyzmq==26.2.0 in c:\\users\\jules\\anaconda3\\envs\\potatoes\\lib\\site-packages (from -r ../requirements.txt (line 107)) (26.2.0)\n",
      "Requirement already satisfied: referencing==0.35.1 in c:\\users\\jules\\anaconda3\\envs\\potatoes\\lib\\site-packages (from -r ../requirements.txt (line 108)) (0.35.1)\n",
      "Requirement already satisfied: requests==2.32.3 in c:\\users\\jules\\anaconda3\\envs\\potatoes\\lib\\site-packages (from -r ../requirements.txt (line 109)) (2.32.3)\n",
      "Requirement already satisfied: rfc3339-validator==0.1.4 in c:\\users\\jules\\anaconda3\\envs\\potatoes\\lib\\site-packages (from -r ../requirements.txt (line 110)) (0.1.4)\n",
      "Requirement already satisfied: rfc3986-validator==0.1.1 in c:\\users\\jules\\anaconda3\\envs\\potatoes\\lib\\site-packages (from -r ../requirements.txt (line 111)) (0.1.1)\n",
      "Requirement already satisfied: rich==13.9.4 in c:\\users\\jules\\anaconda3\\envs\\potatoes\\lib\\site-packages (from -r ../requirements.txt (line 112)) (13.9.4)\n",
      "Requirement already satisfied: rpds-py==0.21.0 in c:\\users\\jules\\anaconda3\\envs\\potatoes\\lib\\site-packages (from -r ../requirements.txt (line 113)) (0.21.0)\n",
      "Requirement already satisfied: scipy==1.14.1 in c:\\users\\jules\\anaconda3\\envs\\potatoes\\lib\\site-packages (from -r ../requirements.txt (line 114)) (1.14.1)\n",
      "Requirement already satisfied: seaborn==0.13.2 in c:\\users\\jules\\anaconda3\\envs\\potatoes\\lib\\site-packages (from -r ../requirements.txt (line 115)) (0.13.2)\n",
      "Requirement already satisfied: Send2Trash==1.8.3 in c:\\users\\jules\\anaconda3\\envs\\potatoes\\lib\\site-packages (from -r ../requirements.txt (line 116)) (1.8.3)\n",
      "Requirement already satisfied: setuptools==75.1.0 in c:\\users\\jules\\anaconda3\\envs\\potatoes\\lib\\site-packages (from -r ../requirements.txt (line 117)) (75.1.0)\n",
      "Requirement already satisfied: six==1.16.0 in c:\\users\\jules\\anaconda3\\envs\\potatoes\\lib\\site-packages (from -r ../requirements.txt (line 118)) (1.16.0)\n",
      "Requirement already satisfied: sniffio==1.3.1 in c:\\users\\jules\\anaconda3\\envs\\potatoes\\lib\\site-packages (from -r ../requirements.txt (line 119)) (1.3.1)\n",
      "Requirement already satisfied: soupsieve==2.6 in c:\\users\\jules\\anaconda3\\envs\\potatoes\\lib\\site-packages (from -r ../requirements.txt (line 120)) (2.6)\n",
      "Requirement already satisfied: stack-data==0.6.2 in c:\\users\\jules\\anaconda3\\envs\\potatoes\\lib\\site-packages (from -r ../requirements.txt (line 121)) (0.6.2)\n",
      "Requirement already satisfied: tensorboard==2.18.0 in c:\\users\\jules\\anaconda3\\envs\\potatoes\\lib\\site-packages (from -r ../requirements.txt (line 122)) (2.18.0)\n",
      "Requirement already satisfied: tensorboard-data-server==0.7.2 in c:\\users\\jules\\anaconda3\\envs\\potatoes\\lib\\site-packages (from -r ../requirements.txt (line 123)) (0.7.2)\n",
      "Requirement already satisfied: tensorflow==2.18.0 in c:\\users\\jules\\anaconda3\\envs\\potatoes\\lib\\site-packages (from -r ../requirements.txt (line 124)) (2.18.0)\n",
      "Requirement already satisfied: tensorflow_intel==2.18.0 in c:\\users\\jules\\anaconda3\\envs\\potatoes\\lib\\site-packages (from -r ../requirements.txt (line 125)) (2.18.0)\n",
      "Requirement already satisfied: tensorflow-io-gcs-filesystem==0.31.0 in c:\\users\\jules\\anaconda3\\envs\\potatoes\\lib\\site-packages (from -r ../requirements.txt (line 126)) (0.31.0)\n",
      "Requirement already satisfied: termcolor==2.5.0 in c:\\users\\jules\\anaconda3\\envs\\potatoes\\lib\\site-packages (from -r ../requirements.txt (line 127)) (2.5.0)\n",
      "Requirement already satisfied: terminado==0.18.1 in c:\\users\\jules\\anaconda3\\envs\\potatoes\\lib\\site-packages (from -r ../requirements.txt (line 128)) (0.18.1)\n",
      "Requirement already satisfied: text-unidecode==1.3 in c:\\users\\jules\\anaconda3\\envs\\potatoes\\lib\\site-packages (from -r ../requirements.txt (line 129)) (1.3)\n",
      "Requirement already satisfied: tinycss2==1.4.0 in c:\\users\\jules\\anaconda3\\envs\\potatoes\\lib\\site-packages (from -r ../requirements.txt (line 130)) (1.4.0)\n",
      "Requirement already satisfied: tornado==6.4.1 in c:\\users\\jules\\anaconda3\\envs\\potatoes\\lib\\site-packages (from -r ../requirements.txt (line 131)) (6.4.1)\n",
      "Requirement already satisfied: tqdm==4.67.0 in c:\\users\\jules\\anaconda3\\envs\\potatoes\\lib\\site-packages (from -r ../requirements.txt (line 132)) (4.67.0)\n",
      "Requirement already satisfied: traitlets==5.14.3 in c:\\users\\jules\\anaconda3\\envs\\potatoes\\lib\\site-packages (from -r ../requirements.txt (line 133)) (5.14.3)\n",
      "Requirement already satisfied: types-python-dateutil==2.9.0.20241003 in c:\\users\\jules\\anaconda3\\envs\\potatoes\\lib\\site-packages (from -r ../requirements.txt (line 134)) (2.9.0.20241003)\n",
      "Requirement already satisfied: typing_extensions==4.12.2 in c:\\users\\jules\\anaconda3\\envs\\potatoes\\lib\\site-packages (from -r ../requirements.txt (line 135)) (4.12.2)\n",
      "Requirement already satisfied: tzdata==2024.2 in c:\\users\\jules\\anaconda3\\envs\\potatoes\\lib\\site-packages (from -r ../requirements.txt (line 136)) (2024.2)\n",
      "Requirement already satisfied: uri-template==1.3.0 in c:\\users\\jules\\anaconda3\\envs\\potatoes\\lib\\site-packages (from -r ../requirements.txt (line 137)) (1.3.0)\n",
      "Requirement already satisfied: urllib3==2.2.3 in c:\\users\\jules\\anaconda3\\envs\\potatoes\\lib\\site-packages (from -r ../requirements.txt (line 138)) (2.2.3)\n",
      "Requirement already satisfied: wcwidth==0.2.13 in c:\\users\\jules\\anaconda3\\envs\\potatoes\\lib\\site-packages (from -r ../requirements.txt (line 139)) (0.2.13)\n",
      "Requirement already satisfied: webcolors==24.11.1 in c:\\users\\jules\\anaconda3\\envs\\potatoes\\lib\\site-packages (from -r ../requirements.txt (line 140)) (24.11.1)\n",
      "Requirement already satisfied: webencodings==0.5.1 in c:\\users\\jules\\anaconda3\\envs\\potatoes\\lib\\site-packages (from -r ../requirements.txt (line 141)) (0.5.1)\n",
      "Requirement already satisfied: websocket-client==1.8.0 in c:\\users\\jules\\anaconda3\\envs\\potatoes\\lib\\site-packages (from -r ../requirements.txt (line 142)) (1.8.0)\n",
      "Requirement already satisfied: Werkzeug==3.1.3 in c:\\users\\jules\\anaconda3\\envs\\potatoes\\lib\\site-packages (from -r ../requirements.txt (line 143)) (3.1.3)\n",
      "Requirement already satisfied: wheel==0.44.0 in c:\\users\\jules\\anaconda3\\envs\\potatoes\\lib\\site-packages (from -r ../requirements.txt (line 144)) (0.44.0)\n",
      "Requirement already satisfied: widgetsnbextension==4.0.13 in c:\\users\\jules\\anaconda3\\envs\\potatoes\\lib\\site-packages (from -r ../requirements.txt (line 145)) (4.0.13)\n",
      "Requirement already satisfied: wrapt==1.16.0 in c:\\users\\jules\\anaconda3\\envs\\potatoes\\lib\\site-packages (from -r ../requirements.txt (line 146)) (1.16.0)\n",
      "Requirement already satisfied: zipp==3.21.0 in c:\\users\\jules\\anaconda3\\envs\\potatoes\\lib\\site-packages (from -r ../requirements.txt (line 147)) (3.21.0)\n",
      "Note: you may need to restart the kernel to use updated packages.\n"
     ]
    }
   ],
   "source": [
    "%pip install -r ../requirements.txt"
   ]
  },
  {
   "cell_type": "markdown",
   "metadata": {
    "id": "cqP-UeN-z3i2"
   },
   "source": [
    "# Change working directory"
   ]
  },
  {
   "cell_type": "markdown",
   "metadata": {},
   "source": [
    "* We are assuming you will store the notebooks in a subfolder, therefore when running the notebook in the editor, you will need to change the working directory"
   ]
  },
  {
   "cell_type": "markdown",
   "metadata": {
    "id": "aOGIGS-uz3i2"
   },
   "source": [
    "We need to change the working directory from its current folder to its parent folder\n",
    "* We access the current directory with os.getcwd()"
   ]
  },
  {
   "cell_type": "code",
   "execution_count": 2,
   "metadata": {
    "id": "wZfF_j-Bz3i4",
    "outputId": "66943449-1436-4c3d-85c7-b85f9f78349b"
   },
   "outputs": [
    {
     "data": {
      "text/plain": [
       "'c:\\\\Users\\\\jules\\\\Desktop\\\\coding\\\\potato-leaf-diseases\\\\jupyter_notebooks'"
      ]
     },
     "execution_count": 2,
     "metadata": {},
     "output_type": "execute_result"
    }
   ],
   "source": [
    "import os\n",
    "current_dir = os.getcwd()\n",
    "current_dir"
   ]
  },
  {
   "cell_type": "markdown",
   "metadata": {
    "id": "9MWW8E7lz3i7"
   },
   "source": [
    "We want to make the parent of the current directory the new current directory\n",
    "* os.path.dirname() gets the parent directory\n",
    "* os.chir() defines the new current directory"
   ]
  },
  {
   "cell_type": "code",
   "execution_count": 3,
   "metadata": {
    "id": "TwHsQRWjz3i9",
    "outputId": "86849db3-cd2f-4cc5-ebb8-2d0caafa1a2c"
   },
   "outputs": [
    {
     "name": "stdout",
     "output_type": "stream",
     "text": [
      "You set a new current directory\n"
     ]
    }
   ],
   "source": [
    "os.chdir(os.path.dirname(current_dir))\n",
    "print(\"You set a new current directory\")"
   ]
  },
  {
   "cell_type": "markdown",
   "metadata": {
    "id": "M_xPk_Ijz3i-"
   },
   "source": [
    "Confirm the new current directory"
   ]
  },
  {
   "cell_type": "code",
   "execution_count": 4,
   "metadata": {
    "id": "vz3S-_kjz3jA",
    "outputId": "00b79ae4-75d0-4a96-d193-ac9ef9847ea2"
   },
   "outputs": [
    {
     "data": {
      "text/plain": [
       "'c:\\\\Users\\\\jules\\\\Desktop\\\\coding\\\\potato-leaf-diseases'"
      ]
     },
     "execution_count": 4,
     "metadata": {},
     "output_type": "execute_result"
    }
   ],
   "source": [
    "current_dir = os.getcwd()\n",
    "current_dir"
   ]
  },
  {
   "cell_type": "markdown",
   "metadata": {
    "id": "-mavJ8DibrcQ"
   },
   "source": [
    "# Installing Kaggle"
   ]
  },
  {
   "cell_type": "code",
   "execution_count": 5,
   "metadata": {},
   "outputs": [
    {
     "name": "stdout",
     "output_type": "stream",
     "text": [
      "Requirement already satisfied: kaggle in c:\\users\\jules\\anaconda3\\envs\\potatoes\\lib\\site-packages (1.6.17)\n",
      "Requirement already satisfied: six>=1.10 in c:\\users\\jules\\anaconda3\\envs\\potatoes\\lib\\site-packages (from kaggle) (1.16.0)\n",
      "Requirement already satisfied: certifi>=2023.7.22 in c:\\users\\jules\\anaconda3\\envs\\potatoes\\lib\\site-packages (from kaggle) (2024.8.30)\n",
      "Requirement already satisfied: python-dateutil in c:\\users\\jules\\anaconda3\\envs\\potatoes\\lib\\site-packages (from kaggle) (2.9.0.post0)\n",
      "Requirement already satisfied: requests in c:\\users\\jules\\anaconda3\\envs\\potatoes\\lib\\site-packages (from kaggle) (2.32.3)\n",
      "Requirement already satisfied: tqdm in c:\\users\\jules\\anaconda3\\envs\\potatoes\\lib\\site-packages (from kaggle) (4.67.0)\n",
      "Requirement already satisfied: python-slugify in c:\\users\\jules\\anaconda3\\envs\\potatoes\\lib\\site-packages (from kaggle) (8.0.4)\n",
      "Requirement already satisfied: urllib3 in c:\\users\\jules\\anaconda3\\envs\\potatoes\\lib\\site-packages (from kaggle) (2.2.3)\n",
      "Requirement already satisfied: bleach in c:\\users\\jules\\anaconda3\\envs\\potatoes\\lib\\site-packages (from kaggle) (6.2.0)\n",
      "Requirement already satisfied: webencodings in c:\\users\\jules\\anaconda3\\envs\\potatoes\\lib\\site-packages (from bleach->kaggle) (0.5.1)\n",
      "Requirement already satisfied: text-unidecode>=1.3 in c:\\users\\jules\\anaconda3\\envs\\potatoes\\lib\\site-packages (from python-slugify->kaggle) (1.3)\n",
      "Requirement already satisfied: charset-normalizer<4,>=2 in c:\\users\\jules\\anaconda3\\envs\\potatoes\\lib\\site-packages (from requests->kaggle) (3.4.0)\n",
      "Requirement already satisfied: idna<4,>=2.5 in c:\\users\\jules\\anaconda3\\envs\\potatoes\\lib\\site-packages (from requests->kaggle) (3.10)\n",
      "Requirement already satisfied: colorama in c:\\users\\jules\\anaconda3\\envs\\potatoes\\lib\\site-packages (from tqdm->kaggle) (0.4.6)\n",
      "Note: you may need to restart the kernel to use updated packages.\n"
     ]
    }
   ],
   "source": [
    "# install kaggle package\n",
    "%pip install kaggle"
   ]
  },
  {
   "cell_type": "markdown",
   "metadata": {},
   "source": [
    "Run the cell below **to change the Kaggle configuration directory to the current working directory and set permissions for the Kaggle authentication JSON**."
   ]
  },
  {
   "cell_type": "code",
   "execution_count": 6,
   "metadata": {},
   "outputs": [
    {
     "name": "stderr",
     "output_type": "stream",
     "text": [
      "'chmod' is not recognized as an internal or external command,\n",
      "operable program or batch file.\n"
     ]
    }
   ],
   "source": [
    "os.environ['KAGGLE_CONFIG_DIR'] = os.getcwd()\n",
    "! chmod 600 kaggle.json"
   ]
  },
  {
   "cell_type": "markdown",
   "metadata": {},
   "source": [
    "- We will now download the data from kaggle. Our data path is 'warcoder/potato-leaf-disease-dataset' (the last part of the [URL](https://www.kaggle.com/datasets/warcoder/potato-leaf-disease-dataset))\n",
    "\n",
    "- **Make sure you have your Kaggle.json file in the directory**"
   ]
  },
  {
   "cell_type": "code",
   "execution_count": 7,
   "metadata": {},
   "outputs": [
    {
     "name": "stdout",
     "output_type": "stream",
     "text": [
      "Dataset URL: https://www.kaggle.com/datasets/warcoder/potato-leaf-disease-dataset\n",
      "License(s): Attribution 4.0 International (CC BY 4.0)\n",
      "Downloading potato-leaf-disease-dataset.zip to inputs/leaves_dataset\n",
      "\n"
     ]
    },
    {
     "name": "stderr",
     "output_type": "stream",
     "text": [
      "\n",
      "  0%|          | 0.00/719M [00:00<?, ?B/s]\n",
      "  0%|          | 1.00M/719M [00:00<05:52, 2.13MB/s]\n",
      "  0%|          | 2.00M/719M [00:00<03:17, 3.81MB/s]\n",
      "  0%|          | 3.00M/719M [00:00<02:20, 5.33MB/s]\n",
      "  1%|          | 5.00M/719M [00:00<01:31, 8.17MB/s]\n",
      "  1%|          | 7.00M/719M [00:01<01:15, 9.85MB/s]\n",
      "  1%|▏         | 9.00M/719M [00:01<01:03, 11.7MB/s]\n",
      "  2%|▏         | 11.0M/719M [00:01<00:55, 13.3MB/s]\n",
      "  2%|▏         | 13.0M/719M [00:01<00:48, 15.2MB/s]\n",
      "  2%|▏         | 15.0M/719M [00:01<00:47, 15.5MB/s]\n",
      "  2%|▏         | 17.0M/719M [00:01<00:46, 15.8MB/s]\n",
      "  3%|▎         | 19.0M/719M [00:01<00:44, 16.5MB/s]\n",
      "  3%|▎         | 21.0M/719M [00:01<00:48, 15.0MB/s]\n",
      "  3%|▎         | 23.0M/719M [00:02<00:45, 16.1MB/s]\n",
      "  3%|▎         | 25.0M/719M [00:02<00:42, 17.1MB/s]\n",
      "  4%|▍         | 27.0M/719M [00:02<00:42, 17.2MB/s]\n",
      "  4%|▍         | 29.0M/719M [00:02<00:42, 16.9MB/s]\n",
      "  4%|▍         | 31.0M/719M [00:02<00:45, 16.0MB/s]\n",
      "  5%|▍         | 33.0M/719M [00:02<00:42, 17.1MB/s]\n",
      "  5%|▌         | 36.0M/719M [00:02<00:38, 18.7MB/s]\n",
      "  5%|▌         | 38.0M/719M [00:02<00:39, 18.0MB/s]\n",
      "  6%|▌         | 40.0M/719M [00:03<00:41, 17.2MB/s]\n",
      "  6%|▌         | 42.0M/719M [00:03<00:43, 16.3MB/s]\n",
      "  6%|▌         | 44.0M/719M [00:03<00:46, 15.3MB/s]\n",
      "  6%|▋         | 46.0M/719M [00:03<00:43, 16.4MB/s]\n",
      "  7%|▋         | 48.0M/719M [00:03<00:40, 17.2MB/s]\n",
      "  7%|▋         | 50.0M/719M [00:03<00:44, 15.8MB/s]\n",
      "  7%|▋         | 52.0M/719M [00:03<00:43, 16.2MB/s]\n",
      "  8%|▊         | 54.0M/719M [00:03<00:41, 16.9MB/s]\n",
      "  8%|▊         | 56.0M/719M [00:04<00:46, 14.9MB/s]\n",
      "  8%|▊         | 58.0M/719M [00:04<00:45, 15.4MB/s]\n",
      "  8%|▊         | 60.0M/719M [00:04<00:44, 15.7MB/s]\n",
      "  9%|▊         | 62.0M/719M [00:04<00:43, 15.9MB/s]\n",
      "  9%|▉         | 65.0M/719M [00:04<00:38, 18.0MB/s]\n",
      "  9%|▉         | 67.0M/719M [00:04<00:37, 18.0MB/s]\n",
      " 10%|▉         | 69.0M/719M [00:04<00:38, 17.7MB/s]\n",
      " 10%|▉         | 71.0M/719M [00:04<00:37, 17.9MB/s]\n",
      " 10%|█         | 73.0M/719M [00:05<00:40, 16.7MB/s]\n",
      " 10%|█         | 75.0M/719M [00:05<00:43, 15.6MB/s]\n",
      " 11%|█         | 77.0M/719M [00:05<00:57, 11.7MB/s]\n",
      " 11%|█         | 79.0M/719M [00:05<00:52, 12.8MB/s]\n",
      " 11%|█▏        | 81.0M/719M [00:05<00:58, 11.4MB/s]\n",
      " 12%|█▏        | 83.0M/719M [00:06<01:02, 10.7MB/s]\n",
      " 12%|█▏        | 85.0M/719M [00:06<00:53, 12.4MB/s]\n",
      " 12%|█▏        | 87.0M/719M [00:06<00:47, 13.8MB/s]\n",
      " 12%|█▏        | 89.0M/719M [00:06<00:45, 14.6MB/s]\n",
      " 13%|█▎        | 91.0M/719M [00:06<00:42, 15.5MB/s]\n",
      " 13%|█▎        | 93.0M/719M [00:06<00:42, 15.5MB/s]\n",
      " 13%|█▎        | 96.0M/719M [00:06<00:36, 17.7MB/s]\n",
      " 14%|█▎        | 98.0M/719M [00:07<00:36, 17.9MB/s]\n",
      " 14%|█▍        | 100M/719M [00:07<00:35, 18.1MB/s] \n",
      " 14%|█▍        | 102M/719M [00:07<00:35, 18.3MB/s]\n",
      " 14%|█▍        | 104M/719M [00:07<00:34, 18.5MB/s]\n",
      " 15%|█▍        | 106M/719M [00:07<00:34, 18.9MB/s]\n",
      " 15%|█▌        | 108M/719M [00:07<00:34, 18.5MB/s]\n",
      " 15%|█▌        | 110M/719M [00:07<00:35, 18.2MB/s]\n",
      " 16%|█▌        | 112M/719M [00:07<00:34, 18.5MB/s]\n",
      " 16%|█▌        | 114M/719M [00:07<00:34, 18.5MB/s]\n",
      " 16%|█▌        | 116M/719M [00:08<00:34, 18.4MB/s]\n",
      " 16%|█▋        | 118M/719M [00:08<00:34, 18.4MB/s]\n",
      " 17%|█▋        | 120M/719M [00:08<00:33, 18.7MB/s]\n",
      " 17%|█▋        | 122M/719M [00:08<00:33, 18.8MB/s]\n",
      " 17%|█▋        | 124M/719M [00:08<00:33, 18.5MB/s]\n",
      " 18%|█▊        | 126M/719M [00:08<00:32, 19.0MB/s]\n",
      " 18%|█▊        | 128M/719M [00:08<00:34, 18.1MB/s]\n",
      " 18%|█▊        | 130M/719M [00:08<00:33, 18.3MB/s]\n",
      " 18%|█▊        | 132M/719M [00:08<00:34, 17.7MB/s]\n",
      " 19%|█▊        | 134M/719M [00:09<00:33, 18.3MB/s]\n",
      " 19%|█▉        | 136M/719M [00:09<00:33, 18.5MB/s]\n",
      " 19%|█▉        | 138M/719M [00:09<00:32, 18.6MB/s]\n",
      " 19%|█▉        | 140M/719M [00:09<00:32, 18.5MB/s]\n",
      " 20%|█▉        | 142M/719M [00:09<00:32, 18.8MB/s]\n",
      " 20%|██        | 144M/719M [00:09<00:32, 18.4MB/s]\n",
      " 20%|██        | 146M/719M [00:09<00:32, 18.4MB/s]\n",
      " 21%|██        | 148M/719M [00:09<00:36, 16.4MB/s]\n",
      " 21%|██        | 151M/719M [00:10<00:32, 18.4MB/s]\n",
      " 21%|██▏       | 153M/719M [00:10<00:34, 17.3MB/s]\n",
      " 22%|██▏       | 156M/719M [00:10<00:31, 18.9MB/s]\n",
      " 22%|██▏       | 158M/719M [00:10<00:31, 18.9MB/s]\n",
      " 22%|██▏       | 160M/719M [00:10<00:32, 18.0MB/s]\n",
      " 23%|██▎       | 162M/719M [00:10<00:41, 14.0MB/s]\n",
      " 23%|██▎       | 164M/719M [00:10<00:38, 15.1MB/s]\n",
      " 23%|██▎       | 166M/719M [00:11<00:37, 15.5MB/s]\n",
      " 24%|██▎       | 169M/719M [00:11<00:34, 16.7MB/s]\n",
      " 24%|██▍       | 171M/719M [00:11<00:35, 16.2MB/s]\n",
      " 24%|██▍       | 173M/719M [00:11<00:33, 16.9MB/s]\n",
      " 24%|██▍       | 175M/719M [00:11<00:33, 17.2MB/s]\n",
      " 25%|██▍       | 177M/719M [00:11<00:32, 17.3MB/s]\n",
      " 25%|██▍       | 179M/719M [00:11<00:34, 16.2MB/s]\n",
      " 25%|██▌       | 181M/719M [00:11<00:33, 16.7MB/s]\n",
      " 25%|██▌       | 183M/719M [00:12<00:32, 17.0MB/s]\n",
      " 26%|██▌       | 185M/719M [00:12<00:31, 17.9MB/s]\n",
      " 26%|██▌       | 187M/719M [00:12<00:30, 18.3MB/s]\n",
      " 26%|██▋       | 189M/719M [00:12<00:31, 17.8MB/s]\n",
      " 27%|██▋       | 191M/719M [00:12<00:32, 16.9MB/s]\n",
      " 27%|██▋       | 193M/719M [00:12<00:34, 16.0MB/s]\n",
      " 27%|██▋       | 195M/719M [00:12<00:32, 16.8MB/s]\n",
      " 27%|██▋       | 197M/719M [00:12<00:32, 17.0MB/s]\n",
      " 28%|██▊       | 199M/719M [00:13<00:31, 17.2MB/s]\n",
      " 28%|██▊       | 201M/719M [00:13<00:30, 17.9MB/s]\n",
      " 28%|██▊       | 203M/719M [00:13<00:29, 18.2MB/s]\n",
      " 29%|██▊       | 205M/719M [00:13<00:29, 18.2MB/s]\n",
      " 29%|██▉       | 207M/719M [00:13<00:28, 18.5MB/s]\n",
      " 29%|██▉       | 209M/719M [00:13<00:29, 18.4MB/s]\n",
      " 29%|██▉       | 211M/719M [00:13<00:29, 17.9MB/s]\n",
      " 30%|██▉       | 213M/719M [00:13<00:29, 17.8MB/s]\n",
      " 30%|██▉       | 215M/719M [00:14<00:34, 15.4MB/s]\n",
      " 30%|███       | 218M/719M [00:14<00:33, 15.8MB/s]\n",
      " 31%|███       | 220M/719M [00:14<00:31, 16.8MB/s]\n",
      " 31%|███       | 223M/719M [00:14<00:28, 18.2MB/s]\n",
      " 31%|███▏      | 225M/719M [00:14<00:28, 18.3MB/s]\n",
      " 32%|███▏      | 227M/719M [00:14<00:27, 18.6MB/s]\n",
      " 32%|███▏      | 229M/719M [00:14<00:27, 18.7MB/s]\n",
      " 32%|███▏      | 231M/719M [00:14<00:27, 18.7MB/s]\n",
      " 32%|███▏      | 233M/719M [00:15<00:27, 18.7MB/s]\n",
      " 33%|███▎      | 235M/719M [00:15<00:28, 18.1MB/s]\n",
      " 33%|███▎      | 237M/719M [00:15<00:27, 18.5MB/s]\n",
      " 33%|███▎      | 239M/719M [00:15<00:27, 18.0MB/s]\n",
      " 34%|███▎      | 241M/719M [00:15<00:27, 18.5MB/s]\n",
      " 34%|███▍      | 243M/719M [00:15<00:26, 18.7MB/s]\n",
      " 34%|███▍      | 245M/719M [00:15<00:27, 18.2MB/s]\n",
      " 34%|███▍      | 247M/719M [00:15<00:26, 18.6MB/s]\n",
      " 35%|███▍      | 249M/719M [00:16<00:37, 13.3MB/s]\n",
      " 35%|███▍      | 251M/719M [00:16<00:38, 12.7MB/s]\n",
      " 35%|███▌      | 253M/719M [00:16<00:37, 13.1MB/s]\n",
      " 36%|███▌      | 256M/719M [00:16<00:29, 16.3MB/s]\n",
      " 36%|███▌      | 258M/719M [00:16<00:28, 16.9MB/s]\n",
      " 36%|███▌      | 260M/719M [00:16<00:27, 17.4MB/s]\n",
      " 36%|███▋      | 262M/719M [00:16<00:27, 17.2MB/s]\n",
      " 37%|███▋      | 264M/719M [00:16<00:27, 17.6MB/s]\n",
      " 37%|███▋      | 266M/719M [00:17<00:26, 17.9MB/s]\n",
      " 37%|███▋      | 268M/719M [00:17<00:26, 17.7MB/s]\n",
      " 38%|███▊      | 270M/719M [00:17<00:26, 17.6MB/s]\n",
      " 38%|███▊      | 272M/719M [00:17<00:26, 17.6MB/s]\n",
      " 38%|███▊      | 274M/719M [00:17<00:26, 17.9MB/s]\n",
      " 38%|███▊      | 276M/719M [00:17<00:25, 17.9MB/s]\n",
      " 39%|███▊      | 278M/719M [00:17<00:26, 17.5MB/s]\n",
      " 39%|███▉      | 280M/719M [00:17<00:26, 17.3MB/s]\n",
      " 39%|███▉      | 282M/719M [00:18<00:26, 17.5MB/s]\n",
      " 40%|███▉      | 284M/719M [00:18<00:25, 17.9MB/s]\n",
      " 40%|███▉      | 286M/719M [00:18<00:25, 17.8MB/s]\n",
      " 40%|████      | 288M/719M [00:18<00:24, 18.4MB/s]\n",
      " 40%|████      | 290M/719M [00:18<00:24, 18.4MB/s]\n",
      " 41%|████      | 292M/719M [00:18<00:23, 18.7MB/s]\n",
      " 41%|████      | 294M/719M [00:18<00:23, 18.8MB/s]\n",
      " 41%|████      | 296M/719M [00:18<00:23, 18.7MB/s]\n",
      " 41%|████▏     | 298M/719M [00:18<00:23, 18.8MB/s]\n",
      " 42%|████▏     | 300M/719M [00:19<00:23, 18.5MB/s]\n",
      " 42%|████▏     | 302M/719M [00:19<00:23, 18.6MB/s]\n",
      " 42%|████▏     | 304M/719M [00:19<00:26, 16.5MB/s]\n",
      " 43%|████▎     | 307M/719M [00:19<00:23, 18.3MB/s]\n",
      " 43%|████▎     | 309M/719M [00:19<00:23, 18.5MB/s]\n",
      " 43%|████▎     | 311M/719M [00:19<00:23, 18.4MB/s]\n",
      " 44%|████▎     | 313M/719M [00:19<00:22, 18.6MB/s]\n",
      " 44%|████▍     | 315M/719M [00:19<00:22, 18.6MB/s]\n",
      " 44%|████▍     | 317M/719M [00:20<00:22, 18.8MB/s]\n",
      " 44%|████▍     | 319M/719M [00:20<00:22, 18.8MB/s]\n",
      " 45%|████▍     | 321M/719M [00:20<00:22, 18.9MB/s]\n",
      " 45%|████▍     | 323M/719M [00:20<00:22, 18.6MB/s]\n",
      " 45%|████▌     | 325M/719M [00:20<00:22, 18.5MB/s]\n",
      " 46%|████▌     | 327M/719M [00:20<00:23, 17.8MB/s]\n",
      " 46%|████▌     | 329M/719M [00:20<00:22, 18.5MB/s]\n",
      " 46%|████▌     | 331M/719M [00:20<00:21, 19.1MB/s]\n",
      " 46%|████▋     | 333M/719M [00:20<00:21, 18.8MB/s]\n",
      " 47%|████▋     | 335M/719M [00:21<00:23, 17.4MB/s]\n",
      " 47%|████▋     | 337M/719M [00:21<00:31, 12.7MB/s]\n",
      " 47%|████▋     | 339M/719M [00:21<00:28, 13.9MB/s]\n",
      " 47%|████▋     | 341M/719M [00:21<00:26, 14.8MB/s]\n",
      " 48%|████▊     | 343M/719M [00:21<00:25, 15.7MB/s]\n",
      " 48%|████▊     | 345M/719M [00:21<00:24, 16.1MB/s]\n",
      " 48%|████▊     | 347M/719M [00:21<00:23, 16.8MB/s]\n",
      " 49%|████▊     | 349M/719M [00:22<00:22, 17.5MB/s]\n",
      " 49%|████▉     | 351M/719M [00:22<00:21, 18.0MB/s]\n",
      " 49%|████▉     | 353M/719M [00:22<00:21, 18.1MB/s]\n",
      " 49%|████▉     | 355M/719M [00:22<00:20, 18.5MB/s]\n",
      " 50%|████▉     | 357M/719M [00:22<00:21, 17.7MB/s]\n",
      " 50%|█████     | 360M/719M [00:22<00:20, 18.5MB/s]\n",
      " 50%|█████     | 362M/719M [00:22<00:21, 17.3MB/s]\n",
      " 51%|█████     | 364M/719M [00:22<00:21, 17.1MB/s]\n",
      " 51%|█████     | 366M/719M [00:23<00:20, 17.7MB/s]\n",
      " 51%|█████     | 368M/719M [00:23<00:20, 18.1MB/s]\n",
      " 51%|█████▏    | 370M/719M [00:23<00:20, 18.2MB/s]\n",
      " 52%|█████▏    | 372M/719M [00:23<00:19, 18.4MB/s]\n",
      " 52%|█████▏    | 374M/719M [00:23<00:20, 17.9MB/s]\n",
      " 52%|█████▏    | 376M/719M [00:23<00:19, 18.2MB/s]\n",
      " 53%|█████▎    | 378M/719M [00:23<00:19, 18.4MB/s]\n",
      " 53%|█████▎    | 380M/719M [00:23<00:19, 18.6MB/s]\n",
      " 53%|█████▎    | 382M/719M [00:23<00:19, 18.2MB/s]\n",
      " 53%|█████▎    | 384M/719M [00:24<00:19, 18.4MB/s]\n",
      " 54%|█████▎    | 386M/719M [00:24<00:20, 17.1MB/s]\n",
      " 54%|█████▍    | 389M/719M [00:24<00:18, 19.0MB/s]\n",
      " 54%|█████▍    | 391M/719M [00:24<00:18, 18.5MB/s]\n",
      " 55%|█████▍    | 393M/719M [00:24<00:17, 19.1MB/s]\n",
      " 55%|█████▍    | 395M/719M [00:24<00:17, 19.1MB/s]\n",
      " 55%|█████▌    | 397M/719M [00:24<00:18, 18.0MB/s]\n",
      " 56%|█████▌    | 400M/719M [00:24<00:17, 19.2MB/s]\n",
      " 56%|█████▌    | 402M/719M [00:25<00:17, 19.1MB/s]\n",
      " 56%|█████▌    | 404M/719M [00:25<00:17, 18.5MB/s]\n",
      " 57%|█████▋    | 407M/719M [00:25<00:17, 19.1MB/s]\n",
      " 57%|█████▋    | 409M/719M [00:25<00:16, 19.1MB/s]\n",
      " 57%|█████▋    | 411M/719M [00:25<00:16, 19.1MB/s]\n",
      " 57%|█████▋    | 413M/719M [00:25<00:16, 19.1MB/s]\n",
      " 58%|█████▊    | 415M/719M [00:25<00:16, 19.0MB/s]\n",
      " 58%|█████▊    | 417M/719M [00:25<00:16, 18.7MB/s]\n",
      " 58%|█████▊    | 419M/719M [00:26<00:16, 19.1MB/s]\n",
      " 59%|█████▊    | 421M/719M [00:26<00:16, 19.1MB/s]\n",
      " 59%|█████▉    | 423M/719M [00:26<00:16, 19.2MB/s]\n",
      " 59%|█████▉    | 425M/719M [00:26<00:16, 19.2MB/s]\n",
      " 59%|█████▉    | 427M/719M [00:26<00:23, 13.0MB/s]\n",
      " 60%|█████▉    | 429M/719M [00:26<00:22, 13.6MB/s]\n",
      " 60%|█████▉    | 431M/719M [00:26<00:20, 14.8MB/s]\n",
      " 60%|██████    | 433M/719M [00:26<00:18, 15.8MB/s]\n",
      " 61%|██████    | 435M/719M [00:27<00:18, 16.2MB/s]\n",
      " 61%|██████    | 437M/719M [00:27<00:17, 16.9MB/s]\n",
      " 61%|██████    | 439M/719M [00:27<00:16, 17.6MB/s]\n",
      " 61%|██████▏   | 441M/719M [00:27<00:16, 18.0MB/s]\n",
      " 62%|██████▏   | 443M/719M [00:27<00:15, 18.4MB/s]\n",
      " 62%|██████▏   | 445M/719M [00:27<00:15, 18.2MB/s]\n",
      " 62%|██████▏   | 447M/719M [00:27<00:15, 18.5MB/s]\n",
      " 62%|██████▏   | 449M/719M [00:27<00:15, 18.2MB/s]\n",
      " 63%|██████▎   | 451M/719M [00:27<00:15, 18.7MB/s]\n",
      " 63%|██████▎   | 453M/719M [00:28<00:16, 16.8MB/s]\n",
      " 63%|██████▎   | 456M/719M [00:28<00:14, 19.4MB/s]\n",
      " 64%|██████▎   | 458M/719M [00:28<00:14, 19.5MB/s]\n",
      " 64%|██████▍   | 460M/719M [00:28<00:14, 19.2MB/s]\n",
      " 64%|██████▍   | 462M/719M [00:28<00:13, 19.3MB/s]\n",
      " 65%|██████▍   | 464M/719M [00:28<00:14, 18.5MB/s]\n",
      " 65%|██████▍   | 466M/719M [00:28<00:14, 18.6MB/s]\n",
      " 65%|██████▌   | 468M/719M [00:28<00:14, 18.0MB/s]\n",
      " 65%|██████▌   | 470M/719M [00:29<00:19, 13.2MB/s]\n",
      " 66%|██████▌   | 473M/719M [00:29<00:15, 16.1MB/s]\n",
      " 66%|██████▌   | 476M/719M [00:29<00:15, 16.9MB/s]\n",
      " 67%|██████▋   | 478M/719M [00:29<00:14, 17.2MB/s]\n",
      " 67%|██████▋   | 480M/719M [00:29<00:14, 17.9MB/s]\n",
      " 67%|██████▋   | 482M/719M [00:29<00:14, 17.4MB/s]\n",
      " 67%|██████▋   | 484M/719M [00:29<00:13, 17.8MB/s]\n",
      " 68%|██████▊   | 486M/719M [00:30<00:13, 18.1MB/s]\n",
      " 68%|██████▊   | 488M/719M [00:30<00:13, 18.4MB/s]\n",
      " 68%|██████▊   | 490M/719M [00:30<00:12, 18.6MB/s]\n",
      " 68%|██████▊   | 492M/719M [00:30<00:13, 17.9MB/s]\n",
      " 69%|██████▉   | 494M/719M [00:30<00:12, 18.6MB/s]\n",
      " 69%|██████▉   | 496M/719M [00:30<00:12, 18.8MB/s]\n",
      " 69%|██████▉   | 498M/719M [00:30<00:12, 18.0MB/s]\n",
      " 70%|██████▉   | 500M/719M [00:30<00:12, 18.3MB/s]\n",
      " 70%|██████▉   | 502M/719M [00:30<00:12, 18.4MB/s]\n",
      " 70%|███████   | 504M/719M [00:31<00:12, 18.5MB/s]\n",
      " 70%|███████   | 506M/719M [00:31<00:11, 18.6MB/s]\n",
      " 71%|███████   | 508M/719M [00:31<00:12, 18.3MB/s]\n",
      " 71%|███████   | 510M/719M [00:31<00:11, 18.8MB/s]\n",
      " 71%|███████▏  | 512M/719M [00:31<00:11, 18.9MB/s]\n",
      " 72%|███████▏  | 514M/719M [00:31<00:11, 18.6MB/s]\n",
      " 72%|███████▏  | 516M/719M [00:31<00:11, 18.8MB/s]\n",
      " 72%|███████▏  | 518M/719M [00:31<00:11, 18.7MB/s]\n",
      " 72%|███████▏  | 520M/719M [00:32<00:11, 18.8MB/s]\n",
      " 73%|███████▎  | 522M/719M [00:32<00:10, 18.9MB/s]\n",
      " 73%|███████▎  | 524M/719M [00:32<00:10, 18.7MB/s]\n",
      " 73%|███████▎  | 526M/719M [00:32<00:10, 18.9MB/s]\n",
      " 73%|███████▎  | 528M/719M [00:32<00:10, 18.2MB/s]\n",
      " 74%|███████▍  | 530M/719M [00:32<00:10, 18.2MB/s]\n",
      " 74%|███████▍  | 532M/719M [00:32<00:10, 18.2MB/s]\n",
      " 74%|███████▍  | 534M/719M [00:32<00:10, 18.1MB/s]\n",
      " 75%|███████▍  | 536M/719M [00:32<00:10, 18.2MB/s]\n",
      " 75%|███████▍  | 538M/719M [00:33<00:10, 18.4MB/s]\n",
      " 75%|███████▌  | 540M/719M [00:33<00:10, 18.6MB/s]\n",
      " 75%|███████▌  | 542M/719M [00:33<00:09, 18.6MB/s]\n",
      " 76%|███████▌  | 544M/719M [00:33<00:09, 18.7MB/s]\n",
      " 76%|███████▌  | 546M/719M [00:33<00:10, 16.9MB/s]\n",
      " 76%|███████▋  | 549M/719M [00:33<00:09, 18.4MB/s]\n",
      " 77%|███████▋  | 551M/719M [00:33<00:09, 18.6MB/s]\n",
      " 77%|███████▋  | 553M/719M [00:33<00:09, 18.5MB/s]\n",
      " 77%|███████▋  | 555M/719M [00:33<00:09, 18.9MB/s]\n",
      " 78%|███████▊  | 557M/719M [00:34<00:09, 18.2MB/s]\n",
      " 78%|███████▊  | 560M/719M [00:34<00:08, 19.0MB/s]\n",
      " 78%|███████▊  | 562M/719M [00:34<00:08, 18.4MB/s]\n",
      " 78%|███████▊  | 564M/719M [00:34<00:11, 13.5MB/s]\n",
      " 79%|███████▉  | 566M/719M [00:34<00:11, 13.8MB/s]\n",
      " 79%|███████▉  | 568M/719M [00:34<00:10, 15.0MB/s]\n",
      " 79%|███████▉  | 570M/719M [00:35<00:09, 15.8MB/s]\n",
      " 80%|███████▉  | 572M/719M [00:35<00:09, 16.6MB/s]\n",
      " 80%|███████▉  | 574M/719M [00:35<00:09, 16.3MB/s]\n",
      " 80%|████████  | 576M/719M [00:35<00:08, 17.1MB/s]\n",
      " 80%|████████  | 578M/719M [00:35<00:08, 17.3MB/s]\n",
      " 81%|████████  | 580M/719M [00:35<00:08, 17.9MB/s]\n",
      " 81%|████████  | 582M/719M [00:35<00:07, 18.1MB/s]\n",
      " 81%|████████▏ | 584M/719M [00:35<00:07, 18.1MB/s]\n",
      " 82%|████████▏ | 586M/719M [00:35<00:07, 18.3MB/s]\n",
      " 82%|████████▏ | 588M/719M [00:36<00:07, 17.8MB/s]\n",
      " 82%|████████▏ | 591M/719M [00:36<00:07, 18.9MB/s]\n",
      " 83%|████████▎ | 593M/719M [00:36<00:06, 18.9MB/s]\n",
      " 83%|████████▎ | 595M/719M [00:36<00:06, 19.0MB/s]\n",
      " 83%|████████▎ | 597M/719M [00:36<00:06, 19.0MB/s]\n",
      " 83%|████████▎ | 599M/719M [00:36<00:06, 18.4MB/s]\n",
      " 84%|████████▍ | 602M/719M [00:36<00:06, 19.4MB/s]\n",
      " 84%|████████▍ | 604M/719M [00:36<00:06, 19.0MB/s]\n",
      " 84%|████████▍ | 606M/719M [00:37<00:06, 18.9MB/s]\n",
      " 85%|████████▍ | 608M/719M [00:37<00:06, 18.9MB/s]\n",
      " 85%|████████▍ | 610M/719M [00:37<00:05, 19.1MB/s]\n",
      " 85%|████████▌ | 612M/719M [00:37<00:05, 19.1MB/s]\n",
      " 85%|████████▌ | 614M/719M [00:37<00:05, 18.9MB/s]\n",
      " 86%|████████▌ | 616M/719M [00:37<00:05, 19.0MB/s]\n",
      " 86%|████████▌ | 618M/719M [00:37<00:05, 18.9MB/s]\n",
      " 86%|████████▋ | 620M/719M [00:37<00:05, 19.0MB/s]\n",
      " 87%|████████▋ | 622M/719M [00:37<00:05, 18.7MB/s]\n",
      " 87%|████████▋ | 624M/719M [00:38<00:05, 18.9MB/s]\n",
      " 87%|████████▋ | 626M/719M [00:38<00:05, 18.8MB/s]\n",
      " 87%|████████▋ | 628M/719M [00:38<00:05, 18.2MB/s]\n",
      " 88%|████████▊ | 630M/719M [00:38<00:05, 18.6MB/s]\n",
      " 88%|████████▊ | 632M/719M [00:38<00:04, 18.8MB/s]\n",
      " 88%|████████▊ | 634M/719M [00:38<00:04, 18.6MB/s]\n",
      " 89%|████████▊ | 636M/719M [00:38<00:04, 18.3MB/s]\n",
      " 89%|████████▉ | 638M/719M [00:38<00:04, 18.4MB/s]\n",
      " 89%|████████▉ | 640M/719M [00:38<00:04, 18.6MB/s]\n",
      " 89%|████████▉ | 642M/719M [00:39<00:04, 18.7MB/s]\n",
      " 90%|████████▉ | 644M/719M [00:39<00:04, 18.2MB/s]\n",
      " 90%|████████▉ | 646M/719M [00:39<00:04, 18.4MB/s]\n",
      " 90%|█████████ | 648M/719M [00:39<00:04, 18.4MB/s]\n",
      " 90%|█████████ | 650M/719M [00:39<00:04, 17.3MB/s]\n",
      " 91%|█████████ | 653M/719M [00:39<00:03, 18.7MB/s]\n",
      " 91%|█████████ | 655M/719M [00:39<00:03, 18.7MB/s]\n",
      " 91%|█████████▏| 657M/719M [00:39<00:03, 18.9MB/s]\n",
      " 92%|█████████▏| 659M/719M [00:40<00:03, 18.9MB/s]\n",
      " 92%|█████████▏| 661M/719M [00:40<00:03, 18.1MB/s]\n",
      " 92%|█████████▏| 663M/719M [00:40<00:03, 18.4MB/s]\n",
      " 93%|█████████▎| 665M/719M [00:40<00:03, 16.3MB/s]\n",
      " 93%|█████████▎| 667M/719M [00:40<00:03, 13.8MB/s]\n",
      " 93%|█████████▎| 669M/719M [00:40<00:03, 14.4MB/s]\n",
      " 93%|█████████▎| 671M/719M [00:40<00:03, 15.4MB/s]\n",
      " 94%|█████████▎| 673M/719M [00:41<00:03, 15.8MB/s]\n",
      " 94%|█████████▍| 675M/719M [00:41<00:02, 16.8MB/s]\n",
      " 94%|█████████▍| 677M/719M [00:41<00:02, 17.1MB/s]\n",
      " 95%|█████████▍| 679M/719M [00:41<00:02, 17.6MB/s]\n",
      " 95%|█████████▍| 681M/719M [00:41<00:02, 17.7MB/s]\n",
      " 95%|█████████▌| 683M/719M [00:41<00:02, 16.3MB/s]\n",
      " 95%|█████████▌| 685M/719M [00:41<00:02, 17.3MB/s]\n",
      " 96%|█████████▌| 687M/719M [00:41<00:01, 17.8MB/s]\n",
      " 96%|█████████▌| 689M/719M [00:41<00:01, 18.2MB/s]\n",
      " 96%|█████████▌| 691M/719M [00:42<00:01, 16.0MB/s]\n",
      " 96%|█████████▋| 693M/719M [00:42<00:01, 16.2MB/s]\n",
      " 97%|█████████▋| 695M/719M [00:42<00:01, 15.3MB/s]\n",
      " 97%|█████████▋| 697M/719M [00:42<00:01, 15.7MB/s]\n",
      " 97%|█████████▋| 699M/719M [00:42<00:01, 16.3MB/s]\n",
      " 98%|█████████▊| 702M/719M [00:42<00:00, 18.3MB/s]\n",
      " 98%|█████████▊| 705M/719M [00:42<00:00, 19.1MB/s]\n",
      " 98%|█████████▊| 707M/719M [00:43<00:00, 17.9MB/s]\n",
      " 99%|█████████▉| 710M/719M [00:43<00:00, 17.4MB/s]\n",
      " 99%|█████████▉| 713M/719M [00:43<00:00, 18.5MB/s]\n",
      "100%|█████████▉| 715M/719M [00:43<00:00, 17.8MB/s]\n",
      "100%|█████████▉| 717M/719M [00:43<00:00, 17.2MB/s]\n",
      "100%|██████████| 719M/719M [00:43<00:00, 17.2MB/s]\n"
     ]
    }
   ],
   "source": [
    "KaggleDatasetPath = \"warcoder/potato-leaf-disease-dataset\"\n",
    "DestinationFolder = \"inputs/leaves_dataset\"   \n",
    "! kaggle datasets download -d {KaggleDatasetPath} -p {DestinationFolder}"
   ]
  },
  {
   "cell_type": "markdown",
   "metadata": {},
   "source": [
    "We will now unzip the downloaded file, and delete the zip file."
   ]
  },
  {
   "cell_type": "code",
   "execution_count": 8,
   "metadata": {},
   "outputs": [],
   "source": [
    "import zipfile\n",
    "with zipfile.ZipFile(DestinationFolder + '/potato-leaf-disease-dataset.zip', 'r') as zip_ref:\n",
    "    zip_ref.extractall(DestinationFolder)\n",
    "\n",
    "os.remove(DestinationFolder + '/potato-leaf-disease-dataset.zip')"
   ]
  },
  {
   "cell_type": "code",
   "execution_count": 9,
   "metadata": {},
   "outputs": [],
   "source": [
    "os.rename(DestinationFolder + '/Potato Leaf Disease Dataset in Uncontrolled Environment', DestinationFolder + '/leaf_images')"
   ]
  },
  {
   "cell_type": "markdown",
   "metadata": {
    "id": "ZY3l0-AxO93d"
   },
   "source": [
    "---"
   ]
  },
  {
   "cell_type": "markdown",
   "metadata": {
    "id": "uFQo3ycuO-v6"
   },
   "source": [
    "# Data preperation"
   ]
  },
  {
   "cell_type": "markdown",
   "metadata": {},
   "source": [
    "## Data cleaning"
   ]
  },
  {
   "cell_type": "markdown",
   "metadata": {},
   "source": [
    "### remove non image files"
   ]
  },
  {
   "cell_type": "code",
   "execution_count": 10,
   "metadata": {},
   "outputs": [],
   "source": [
    "def remove_non_image_file(my_data_dir):\n",
    "    image_extension = ('.png', '.jpg', '.jpeg')\n",
    "    folders = os.listdir(my_data_dir)\n",
    "    for folder in folders:\n",
    "        files = os.listdir(my_data_dir + '/' + folder)\n",
    "        i = []\n",
    "        j = []\n",
    "        for given_file in files:\n",
    "            if not given_file.lower().endswith(image_extension):\n",
    "                file_location = my_data_dir + '/' + folder + '/' + given_file\n",
    "                os.remove(file_location)  # remove non image file\n",
    "                i.append(1)\n",
    "            else:\n",
    "                j.append(1)\n",
    "                pass\n",
    "        print(f\"Folder: {folder} - has image file\", len(j))\n",
    "        print(f\"Folder: {folder} - has non-image file\", len(i))\n"
   ]
  },
  {
   "cell_type": "code",
   "execution_count": 11,
   "metadata": {},
   "outputs": [
    {
     "name": "stdout",
     "output_type": "stream",
     "text": [
      "Folder: Bacteria - has image file 569\n",
      "Folder: Bacteria - has non-image file 0\n",
      "Folder: Fungi - has image file 748\n",
      "Folder: Fungi - has non-image file 0\n",
      "Folder: Healthy - has image file 201\n",
      "Folder: Healthy - has non-image file 0\n",
      "Folder: Nematode - has image file 68\n",
      "Folder: Nematode - has non-image file 0\n",
      "Folder: Pest - has image file 611\n",
      "Folder: Pest - has non-image file 0\n",
      "Folder: Phytopthora - has image file 347\n",
      "Folder: Phytopthora - has non-image file 0\n",
      "Folder: Virus - has image file 532\n",
      "Folder: Virus - has non-image file 0\n"
     ]
    }
   ],
   "source": [
    "remove_non_image_file(my_data_dir='inputs/leaves_dataset/leaf_images')"
   ]
  },
  {
   "cell_type": "code",
   "execution_count": 12,
   "metadata": {},
   "outputs": [],
   "source": [
    "import shutil\n",
    "\n",
    "def join_folders(folders, new_folder_name):\n",
    "    my_data_dir = 'inputs/leaves_dataset/leaf_images'\n",
    "    os.makedirs(name=my_data_dir + '/' + new_folder_name)\n",
    "    for folder in folders:\n",
    "        files = os.listdir(my_data_dir + '/' + folder)\n",
    "        for file in files:\n",
    "            shutil.copy(my_data_dir + '/' + folder + '/' + file, my_data_dir + '/' + new_folder_name + '/' + file)\n",
    "        shutil.rmtree(my_data_dir + '/' + folder)"
   ]
  },
  {
   "cell_type": "code",
   "execution_count": 13,
   "metadata": {},
   "outputs": [],
   "source": [
    "folders = ['Virus', 'Pest', 'Nematode', 'Fungi']\n",
    "new_folder_name = 'Others'\n",
    "join_folders(folders, new_folder_name)\n",
    "shutil.rmtree('inputs/leaves_dataset/leaf_images/Others')\n"
   ]
  },
  {
   "cell_type": "markdown",
   "metadata": {},
   "source": [
    "## Split train validation test set"
   ]
  },
  {
   "cell_type": "code",
   "execution_count": 14,
   "metadata": {},
   "outputs": [],
   "source": [
    "import os\n",
    "import shutil\n",
    "import random\n",
    "import joblib\n",
    "\n",
    "\n",
    "def split_train_validation_test_images(my_data_dir, train_set_ratio, validation_set_ratio, test_set_ratio):\n",
    "\n",
    "    if train_set_ratio + validation_set_ratio + test_set_ratio != 1.0:\n",
    "        print(\"train_set_ratio + validation_set_ratio + test_set_ratio should sum to 1.0\")\n",
    "        return\n",
    "\n",
    "    # gets classes labels\n",
    "    labels = os.listdir(my_data_dir)  # it should get only the folder name\n",
    "    if 'test' in labels:\n",
    "        pass\n",
    "    else:\n",
    "        # create train, test folders with classes labels sub-folder\n",
    "        for folder in ['train', 'validation', 'test']:\n",
    "            for label in labels:\n",
    "                os.makedirs(name=my_data_dir + '/' + folder + '/' + label)\n",
    "\n",
    "        for label in labels:\n",
    "\n",
    "            files = os.listdir(my_data_dir + '/' + label)\n",
    "            random.seed(42)\n",
    "            random.shuffle(files)\n",
    "\n",
    "            train_set_files_qty = int(len(files) * train_set_ratio)\n",
    "            validation_set_files_qty = int(len(files) * validation_set_ratio)\n",
    "\n",
    "            count = 1\n",
    "            for file_name in files:\n",
    "                if count <= train_set_files_qty:\n",
    "                    # move a given file to the train set\n",
    "                    shutil.move(my_data_dir + '/' + label + '/' + file_name,\n",
    "                                my_data_dir + '/train/' + label + '/' + file_name)\n",
    "\n",
    "                elif count <= (train_set_files_qty + validation_set_files_qty):\n",
    "                    # move a given file to the validation set\n",
    "                    shutil.move(my_data_dir + '/' + label + '/' + file_name,\n",
    "                                my_data_dir + '/validation/' + label + '/' + file_name)\n",
    "\n",
    "                else:\n",
    "                    # move given file to test set\n",
    "                    shutil.move(my_data_dir + '/' + label + '/' + file_name,\n",
    "                                my_data_dir + '/test/' + label + '/' + file_name)\n",
    "\n",
    "                count += 1\n",
    "\n",
    "            os.rmdir(my_data_dir + '/' + label)\n"
   ]
  },
  {
   "cell_type": "markdown",
   "metadata": {},
   "source": [
    "We will be opting for a distribution of:\n",
    "* Training: 0.70 of data.\n",
    "* Validation: 0.10 of data.\n",
    "* Test: 0.20 of data.\n",
    "\n",
    "This is a conventional distribution"
   ]
  },
  {
   "cell_type": "code",
   "execution_count": 15,
   "metadata": {},
   "outputs": [],
   "source": [
    "split_train_validation_test_images(my_data_dir=f\"inputs/leaves_dataset/leaf_images\",\n",
    "                                   train_set_ratio=0.7,\n",
    "                                   validation_set_ratio=0.1,\n",
    "                                   test_set_ratio=0.2\n",
    "                                   )"
   ]
  },
  {
   "cell_type": "markdown",
   "metadata": {},
   "source": [
    "---"
   ]
  },
  {
   "cell_type": "markdown",
   "metadata": {},
   "source": [
    "**There should now be an 'input/leaves_dataset/leaf_images' folder containing a train, test and validation folder**"
   ]
  },
  {
   "cell_type": "markdown",
   "metadata": {},
   "source": [
    "---"
   ]
  }
 ],
 "metadata": {
  "accelerator": "GPU",
  "colab": {
   "name": "Data Practitioner Jupyter Notebook.ipynb",
   "provenance": [],
   "toc_visible": true
  },
  "kernelspec": {
   "display_name": "potatoes",
   "language": "python",
   "name": "python3"
  },
  "language_info": {
   "codemirror_mode": {
    "name": "ipython",
    "version": 3
   },
   "file_extension": ".py",
   "mimetype": "text/x-python",
   "name": "python",
   "nbconvert_exporter": "python",
   "pygments_lexer": "ipython3",
   "version": "3.11.10"
  },
  "orig_nbformat": 2
 },
 "nbformat": 4,
 "nbformat_minor": 2
}
