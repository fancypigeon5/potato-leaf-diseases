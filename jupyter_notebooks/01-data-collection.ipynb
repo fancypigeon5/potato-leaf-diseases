{
 "cells": [
  {
   "cell_type": "markdown",
   "metadata": {
    "id": "0aStgWSO0E0E"
   },
   "source": [
    "# **Data Collection**"
   ]
  },
  {
   "cell_type": "markdown",
   "metadata": {
    "id": "1eLEkw5O0ECa"
   },
   "source": [
    "## Objectives\n",
    "\n",
    "* Fetch data from Kaggle and prepare it for further processes.\n",
    "\n",
    "## Inputs\n",
    "\n",
    "*   Kaggle JSON file - the authentication token. \n",
    "\n",
    "## Outputs\n",
    "\n",
    "* Generate Dataset: inputs/datasets/leaves_dataset\n",
    "\n",
    "## Additional Comments\n",
    "\n",
    "* In case you have any additional comments that don't fit in the previous bullets, please state them here. \n"
   ]
  },
  {
   "cell_type": "markdown",
   "metadata": {
    "id": "9uWZXH9LwoQg"
   },
   "source": [
    "---"
   ]
  },
  {
   "cell_type": "markdown",
   "metadata": {},
   "source": [
    "# Import packages"
   ]
  },
  {
   "cell_type": "code",
   "execution_count": 1,
   "metadata": {},
   "outputs": [
    {
     "name": "stdout",
     "output_type": "stream",
     "text": [
      "Requirement already satisfied: absl-py==2.1.0 in c:\\users\\jules\\anaconda3\\envs\\potatoes\\lib\\site-packages (from -r ../requirements.txt (line 1)) (2.1.0)\n",
      "Requirement already satisfied: anyio==4.6.2.post1 in c:\\users\\jules\\anaconda3\\envs\\potatoes\\lib\\site-packages (from -r ../requirements.txt (line 2)) (4.6.2.post1)\n",
      "Requirement already satisfied: argon2-cffi==23.1.0 in c:\\users\\jules\\anaconda3\\envs\\potatoes\\lib\\site-packages (from -r ../requirements.txt (line 3)) (23.1.0)\n",
      "Requirement already satisfied: argon2-cffi-bindings==21.2.0 in c:\\users\\jules\\anaconda3\\envs\\potatoes\\lib\\site-packages (from -r ../requirements.txt (line 4)) (21.2.0)\n",
      "Requirement already satisfied: arrow==1.3.0 in c:\\users\\jules\\anaconda3\\envs\\potatoes\\lib\\site-packages (from -r ../requirements.txt (line 5)) (1.3.0)\n",
      "Requirement already satisfied: asttokens==2.4.1 in c:\\users\\jules\\anaconda3\\envs\\potatoes\\lib\\site-packages (from -r ../requirements.txt (line 6)) (2.4.1)\n",
      "Requirement already satisfied: astunparse==1.6.3 in c:\\users\\jules\\anaconda3\\envs\\potatoes\\lib\\site-packages (from -r ../requirements.txt (line 7)) (1.6.3)\n",
      "Requirement already satisfied: async-lru==2.0.4 in c:\\users\\jules\\anaconda3\\envs\\potatoes\\lib\\site-packages (from -r ../requirements.txt (line 8)) (2.0.4)\n",
      "Requirement already satisfied: attrs==24.2.0 in c:\\users\\jules\\anaconda3\\envs\\potatoes\\lib\\site-packages (from -r ../requirements.txt (line 9)) (24.2.0)\n",
      "Requirement already satisfied: babel==2.16.0 in c:\\users\\jules\\anaconda3\\envs\\potatoes\\lib\\site-packages (from -r ../requirements.txt (line 10)) (2.16.0)\n",
      "Requirement already satisfied: beautifulsoup4==4.12.3 in c:\\users\\jules\\anaconda3\\envs\\potatoes\\lib\\site-packages (from -r ../requirements.txt (line 11)) (4.12.3)\n",
      "Requirement already satisfied: bleach==6.2.0 in c:\\users\\jules\\anaconda3\\envs\\potatoes\\lib\\site-packages (from -r ../requirements.txt (line 12)) (6.2.0)\n",
      "Requirement already satisfied: certifi==2024.8.30 in c:\\users\\jules\\anaconda3\\envs\\potatoes\\lib\\site-packages (from -r ../requirements.txt (line 13)) (2024.8.30)\n",
      "Requirement already satisfied: cffi==1.17.1 in c:\\users\\jules\\anaconda3\\envs\\potatoes\\lib\\site-packages (from -r ../requirements.txt (line 14)) (1.17.1)\n",
      "Requirement already satisfied: charset-normalizer==3.4.0 in c:\\users\\jules\\anaconda3\\envs\\potatoes\\lib\\site-packages (from -r ../requirements.txt (line 15)) (3.4.0)\n",
      "Requirement already satisfied: colorama==0.4.6 in c:\\users\\jules\\anaconda3\\envs\\potatoes\\lib\\site-packages (from -r ../requirements.txt (line 16)) (0.4.6)\n",
      "Requirement already satisfied: comm==0.2.2 in c:\\users\\jules\\anaconda3\\envs\\potatoes\\lib\\site-packages (from -r ../requirements.txt (line 17)) (0.2.2)\n",
      "Requirement already satisfied: contourpy==1.3.1 in c:\\users\\jules\\anaconda3\\envs\\potatoes\\lib\\site-packages (from -r ../requirements.txt (line 18)) (1.3.1)\n",
      "Requirement already satisfied: cycler==0.12.1 in c:\\users\\jules\\anaconda3\\envs\\potatoes\\lib\\site-packages (from -r ../requirements.txt (line 19)) (0.12.1)\n",
      "Requirement already satisfied: debugpy==1.8.8 in c:\\users\\jules\\anaconda3\\envs\\potatoes\\lib\\site-packages (from -r ../requirements.txt (line 20)) (1.8.8)\n",
      "Requirement already satisfied: decorator==5.1.1 in c:\\users\\jules\\anaconda3\\envs\\potatoes\\lib\\site-packages (from -r ../requirements.txt (line 21)) (5.1.1)\n",
      "Requirement already satisfied: defusedxml==0.7.1 in c:\\users\\jules\\anaconda3\\envs\\potatoes\\lib\\site-packages (from -r ../requirements.txt (line 22)) (0.7.1)\n",
      "Requirement already satisfied: exceptiongroup==1.2.2 in c:\\users\\jules\\anaconda3\\envs\\potatoes\\lib\\site-packages (from -r ../requirements.txt (line 23)) (1.2.2)\n",
      "Requirement already satisfied: executing==2.1.0 in c:\\users\\jules\\anaconda3\\envs\\potatoes\\lib\\site-packages (from -r ../requirements.txt (line 24)) (2.1.0)\n",
      "Requirement already satisfied: fastjsonschema==2.20.0 in c:\\users\\jules\\anaconda3\\envs\\potatoes\\lib\\site-packages (from -r ../requirements.txt (line 25)) (2.20.0)\n",
      "Requirement already satisfied: flatbuffers==24.3.25 in c:\\users\\jules\\anaconda3\\envs\\potatoes\\lib\\site-packages (from -r ../requirements.txt (line 26)) (24.3.25)\n",
      "Requirement already satisfied: fonttools==4.55.0 in c:\\users\\jules\\anaconda3\\envs\\potatoes\\lib\\site-packages (from -r ../requirements.txt (line 27)) (4.55.0)\n",
      "Requirement already satisfied: fqdn==1.5.1 in c:\\users\\jules\\anaconda3\\envs\\potatoes\\lib\\site-packages (from -r ../requirements.txt (line 28)) (1.5.1)\n",
      "Requirement already satisfied: gast==0.6.0 in c:\\users\\jules\\anaconda3\\envs\\potatoes\\lib\\site-packages (from -r ../requirements.txt (line 29)) (0.6.0)\n",
      "Requirement already satisfied: google-pasta==0.2.0 in c:\\users\\jules\\anaconda3\\envs\\potatoes\\lib\\site-packages (from -r ../requirements.txt (line 30)) (0.2.0)\n",
      "Requirement already satisfied: grpcio==1.68.0 in c:\\users\\jules\\anaconda3\\envs\\potatoes\\lib\\site-packages (from -r ../requirements.txt (line 31)) (1.68.0)\n",
      "Requirement already satisfied: h11==0.14.0 in c:\\users\\jules\\anaconda3\\envs\\potatoes\\lib\\site-packages (from -r ../requirements.txt (line 32)) (0.14.0)\n",
      "Requirement already satisfied: h5py==3.12.1 in c:\\users\\jules\\anaconda3\\envs\\potatoes\\lib\\site-packages (from -r ../requirements.txt (line 33)) (3.12.1)\n",
      "Requirement already satisfied: httpcore==1.0.7 in c:\\users\\jules\\anaconda3\\envs\\potatoes\\lib\\site-packages (from -r ../requirements.txt (line 34)) (1.0.7)\n",
      "Requirement already satisfied: httpx==0.27.2 in c:\\users\\jules\\anaconda3\\envs\\potatoes\\lib\\site-packages (from -r ../requirements.txt (line 35)) (0.27.2)\n",
      "Requirement already satisfied: idna==3.10 in c:\\users\\jules\\anaconda3\\envs\\potatoes\\lib\\site-packages (from -r ../requirements.txt (line 36)) (3.10)\n",
      "Requirement already satisfied: importlib_metadata==8.5.0 in c:\\users\\jules\\anaconda3\\envs\\potatoes\\lib\\site-packages (from -r ../requirements.txt (line 37)) (8.5.0)\n",
      "Requirement already satisfied: ipykernel==6.29.5 in c:\\users\\jules\\anaconda3\\envs\\potatoes\\lib\\site-packages (from -r ../requirements.txt (line 38)) (6.29.5)\n",
      "Requirement already satisfied: ipython==8.29.0 in c:\\users\\jules\\anaconda3\\envs\\potatoes\\lib\\site-packages (from -r ../requirements.txt (line 39)) (8.29.0)\n",
      "Requirement already satisfied: ipywidgets==8.1.5 in c:\\users\\jules\\anaconda3\\envs\\potatoes\\lib\\site-packages (from -r ../requirements.txt (line 40)) (8.1.5)\n",
      "Requirement already satisfied: isoduration==20.11.0 in c:\\users\\jules\\anaconda3\\envs\\potatoes\\lib\\site-packages (from -r ../requirements.txt (line 41)) (20.11.0)\n",
      "Requirement already satisfied: jedi==0.19.2 in c:\\users\\jules\\anaconda3\\envs\\potatoes\\lib\\site-packages (from -r ../requirements.txt (line 42)) (0.19.2)\n",
      "Requirement already satisfied: Jinja2==3.1.4 in c:\\users\\jules\\anaconda3\\envs\\potatoes\\lib\\site-packages (from -r ../requirements.txt (line 43)) (3.1.4)\n",
      "Requirement already satisfied: joblib==1.4.2 in c:\\users\\jules\\anaconda3\\envs\\potatoes\\lib\\site-packages (from -r ../requirements.txt (line 44)) (1.4.2)\n",
      "Requirement already satisfied: json5==0.9.28 in c:\\users\\jules\\anaconda3\\envs\\potatoes\\lib\\site-packages (from -r ../requirements.txt (line 45)) (0.9.28)\n",
      "Requirement already satisfied: jsonpointer==3.0.0 in c:\\users\\jules\\anaconda3\\envs\\potatoes\\lib\\site-packages (from -r ../requirements.txt (line 46)) (3.0.0)\n",
      "Requirement already satisfied: jsonschema==4.23.0 in c:\\users\\jules\\anaconda3\\envs\\potatoes\\lib\\site-packages (from -r ../requirements.txt (line 47)) (4.23.0)\n",
      "Requirement already satisfied: jsonschema-specifications==2024.10.1 in c:\\users\\jules\\anaconda3\\envs\\potatoes\\lib\\site-packages (from -r ../requirements.txt (line 48)) (2024.10.1)\n",
      "Requirement already satisfied: jupyter==1.1.1 in c:\\users\\jules\\anaconda3\\envs\\potatoes\\lib\\site-packages (from -r ../requirements.txt (line 49)) (1.1.1)\n",
      "Requirement already satisfied: jupyter_client==8.6.3 in c:\\users\\jules\\anaconda3\\envs\\potatoes\\lib\\site-packages (from -r ../requirements.txt (line 50)) (8.6.3)\n",
      "Requirement already satisfied: jupyter-console==6.6.3 in c:\\users\\jules\\anaconda3\\envs\\potatoes\\lib\\site-packages (from -r ../requirements.txt (line 51)) (6.6.3)\n",
      "Requirement already satisfied: jupyter_core==5.7.2 in c:\\users\\jules\\anaconda3\\envs\\potatoes\\lib\\site-packages (from -r ../requirements.txt (line 52)) (5.7.2)\n",
      "Requirement already satisfied: jupyter-events==0.10.0 in c:\\users\\jules\\anaconda3\\envs\\potatoes\\lib\\site-packages (from -r ../requirements.txt (line 53)) (0.10.0)\n",
      "Requirement already satisfied: jupyter-lsp==2.2.5 in c:\\users\\jules\\anaconda3\\envs\\potatoes\\lib\\site-packages (from -r ../requirements.txt (line 54)) (2.2.5)\n",
      "Requirement already satisfied: jupyter_server==2.14.2 in c:\\users\\jules\\anaconda3\\envs\\potatoes\\lib\\site-packages (from -r ../requirements.txt (line 55)) (2.14.2)\n",
      "Requirement already satisfied: jupyter_server_terminals==0.5.3 in c:\\users\\jules\\anaconda3\\envs\\potatoes\\lib\\site-packages (from -r ../requirements.txt (line 56)) (0.5.3)\n",
      "Requirement already satisfied: jupyterlab==4.2.6 in c:\\users\\jules\\anaconda3\\envs\\potatoes\\lib\\site-packages (from -r ../requirements.txt (line 57)) (4.2.6)\n",
      "Requirement already satisfied: jupyterlab_pygments==0.3.0 in c:\\users\\jules\\anaconda3\\envs\\potatoes\\lib\\site-packages (from -r ../requirements.txt (line 58)) (0.3.0)\n",
      "Requirement already satisfied: jupyterlab_server==2.27.3 in c:\\users\\jules\\anaconda3\\envs\\potatoes\\lib\\site-packages (from -r ../requirements.txt (line 59)) (2.27.3)\n",
      "Requirement already satisfied: jupyterlab_widgets==3.0.13 in c:\\users\\jules\\anaconda3\\envs\\potatoes\\lib\\site-packages (from -r ../requirements.txt (line 60)) (3.0.13)\n",
      "Requirement already satisfied: kaggle==1.6.17 in c:\\users\\jules\\anaconda3\\envs\\potatoes\\lib\\site-packages (from -r ../requirements.txt (line 61)) (1.6.17)\n",
      "Requirement already satisfied: keras==3.6.0 in c:\\users\\jules\\anaconda3\\envs\\potatoes\\lib\\site-packages (from -r ../requirements.txt (line 62)) (3.6.0)\n",
      "Requirement already satisfied: kiwisolver==1.4.7 in c:\\users\\jules\\anaconda3\\envs\\potatoes\\lib\\site-packages (from -r ../requirements.txt (line 63)) (1.4.7)\n",
      "Requirement already satisfied: libclang==18.1.1 in c:\\users\\jules\\anaconda3\\envs\\potatoes\\lib\\site-packages (from -r ../requirements.txt (line 64)) (18.1.1)\n",
      "Requirement already satisfied: Markdown==3.7 in c:\\users\\jules\\anaconda3\\envs\\potatoes\\lib\\site-packages (from -r ../requirements.txt (line 65)) (3.7)\n",
      "Requirement already satisfied: markdown-it-py==3.0.0 in c:\\users\\jules\\anaconda3\\envs\\potatoes\\lib\\site-packages (from -r ../requirements.txt (line 66)) (3.0.0)\n",
      "Requirement already satisfied: MarkupSafe==3.0.2 in c:\\users\\jules\\anaconda3\\envs\\potatoes\\lib\\site-packages (from -r ../requirements.txt (line 67)) (3.0.2)\n",
      "Requirement already satisfied: matplotlib==3.9.2 in c:\\users\\jules\\anaconda3\\envs\\potatoes\\lib\\site-packages (from -r ../requirements.txt (line 68)) (3.9.2)\n",
      "Requirement already satisfied: matplotlib-inline==0.1.7 in c:\\users\\jules\\anaconda3\\envs\\potatoes\\lib\\site-packages (from -r ../requirements.txt (line 69)) (0.1.7)\n",
      "Requirement already satisfied: mdurl==0.1.2 in c:\\users\\jules\\anaconda3\\envs\\potatoes\\lib\\site-packages (from -r ../requirements.txt (line 70)) (0.1.2)\n",
      "Requirement already satisfied: mistune==3.0.2 in c:\\users\\jules\\anaconda3\\envs\\potatoes\\lib\\site-packages (from -r ../requirements.txt (line 71)) (3.0.2)\n",
      "Requirement already satisfied: ml-dtypes==0.4.1 in c:\\users\\jules\\anaconda3\\envs\\potatoes\\lib\\site-packages (from -r ../requirements.txt (line 72)) (0.4.1)\n",
      "Requirement already satisfied: namex==0.0.8 in c:\\users\\jules\\anaconda3\\envs\\potatoes\\lib\\site-packages (from -r ../requirements.txt (line 73)) (0.0.8)\n",
      "Requirement already satisfied: nbclient==0.10.0 in c:\\users\\jules\\anaconda3\\envs\\potatoes\\lib\\site-packages (from -r ../requirements.txt (line 74)) (0.10.0)\n",
      "Requirement already satisfied: nbconvert==7.16.4 in c:\\users\\jules\\anaconda3\\envs\\potatoes\\lib\\site-packages (from -r ../requirements.txt (line 75)) (7.16.4)\n",
      "Requirement already satisfied: nbformat==5.10.4 in c:\\users\\jules\\anaconda3\\envs\\potatoes\\lib\\site-packages (from -r ../requirements.txt (line 76)) (5.10.4)\n",
      "Requirement already satisfied: nest_asyncio==1.6.0 in c:\\users\\jules\\anaconda3\\envs\\potatoes\\lib\\site-packages (from -r ../requirements.txt (line 77)) (1.6.0)\n",
      "Requirement already satisfied: notebook==7.2.2 in c:\\users\\jules\\anaconda3\\envs\\potatoes\\lib\\site-packages (from -r ../requirements.txt (line 78)) (7.2.2)\n",
      "Requirement already satisfied: notebook_shim==0.2.4 in c:\\users\\jules\\anaconda3\\envs\\potatoes\\lib\\site-packages (from -r ../requirements.txt (line 79)) (0.2.4)\n",
      "Requirement already satisfied: numpy==2.0.2 in c:\\users\\jules\\anaconda3\\envs\\potatoes\\lib\\site-packages (from -r ../requirements.txt (line 80)) (2.0.2)\n",
      "Requirement already satisfied: opt_einsum==3.4.0 in c:\\users\\jules\\anaconda3\\envs\\potatoes\\lib\\site-packages (from -r ../requirements.txt (line 81)) (3.4.0)\n",
      "Requirement already satisfied: optree==0.13.1 in c:\\users\\jules\\anaconda3\\envs\\potatoes\\lib\\site-packages (from -r ../requirements.txt (line 82)) (0.13.1)\n",
      "Requirement already satisfied: overrides==7.7.0 in c:\\users\\jules\\anaconda3\\envs\\potatoes\\lib\\site-packages (from -r ../requirements.txt (line 83)) (7.7.0)\n",
      "Requirement already satisfied: packaging==24.2 in c:\\users\\jules\\anaconda3\\envs\\potatoes\\lib\\site-packages (from -r ../requirements.txt (line 84)) (24.2)\n",
      "Requirement already satisfied: pandas==2.2.3 in c:\\users\\jules\\anaconda3\\envs\\potatoes\\lib\\site-packages (from -r ../requirements.txt (line 85)) (2.2.3)\n",
      "Requirement already satisfied: pandocfilters==1.5.1 in c:\\users\\jules\\anaconda3\\envs\\potatoes\\lib\\site-packages (from -r ../requirements.txt (line 86)) (1.5.1)\n",
      "Requirement already satisfied: parso==0.8.4 in c:\\users\\jules\\anaconda3\\envs\\potatoes\\lib\\site-packages (from -r ../requirements.txt (line 87)) (0.8.4)\n",
      "Requirement already satisfied: pickleshare==0.7.5 in c:\\users\\jules\\anaconda3\\envs\\potatoes\\lib\\site-packages (from -r ../requirements.txt (line 88)) (0.7.5)\n",
      "Requirement already satisfied: pillow==11.0.0 in c:\\users\\jules\\anaconda3\\envs\\potatoes\\lib\\site-packages (from -r ../requirements.txt (line 89)) (11.0.0)\n",
      "Requirement already satisfied: pip==24.2 in c:\\users\\jules\\anaconda3\\envs\\potatoes\\lib\\site-packages (from -r ../requirements.txt (line 90)) (24.2)\n",
      "Requirement already satisfied: platformdirs==4.3.6 in c:\\users\\jules\\anaconda3\\envs\\potatoes\\lib\\site-packages (from -r ../requirements.txt (line 91)) (4.3.6)\n",
      "Requirement already satisfied: prometheus_client==0.21.0 in c:\\users\\jules\\anaconda3\\envs\\potatoes\\lib\\site-packages (from -r ../requirements.txt (line 92)) (0.21.0)\n",
      "Requirement already satisfied: prompt_toolkit==3.0.48 in c:\\users\\jules\\anaconda3\\envs\\potatoes\\lib\\site-packages (from -r ../requirements.txt (line 93)) (3.0.48)\n",
      "Requirement already satisfied: protobuf==5.28.3 in c:\\users\\jules\\anaconda3\\envs\\potatoes\\lib\\site-packages (from -r ../requirements.txt (line 94)) (5.28.3)\n",
      "Requirement already satisfied: psutil==6.1.0 in c:\\users\\jules\\anaconda3\\envs\\potatoes\\lib\\site-packages (from -r ../requirements.txt (line 95)) (6.1.0)\n",
      "Requirement already satisfied: pure_eval==0.2.3 in c:\\users\\jules\\anaconda3\\envs\\potatoes\\lib\\site-packages (from -r ../requirements.txt (line 96)) (0.2.3)\n",
      "Requirement already satisfied: pycparser==2.22 in c:\\users\\jules\\anaconda3\\envs\\potatoes\\lib\\site-packages (from -r ../requirements.txt (line 97)) (2.22)\n",
      "Requirement already satisfied: Pygments==2.18.0 in c:\\users\\jules\\anaconda3\\envs\\potatoes\\lib\\site-packages (from -r ../requirements.txt (line 98)) (2.18.0)\n",
      "Requirement already satisfied: pyparsing==3.2.0 in c:\\users\\jules\\anaconda3\\envs\\potatoes\\lib\\site-packages (from -r ../requirements.txt (line 99)) (3.2.0)\n",
      "Requirement already satisfied: python-dateutil==2.9.0.post0 in c:\\users\\jules\\anaconda3\\envs\\potatoes\\lib\\site-packages (from -r ../requirements.txt (line 100)) (2.9.0.post0)\n",
      "Requirement already satisfied: python-json-logger==2.0.7 in c:\\users\\jules\\anaconda3\\envs\\potatoes\\lib\\site-packages (from -r ../requirements.txt (line 101)) (2.0.7)\n",
      "Requirement already satisfied: python-slugify==8.0.4 in c:\\users\\jules\\anaconda3\\envs\\potatoes\\lib\\site-packages (from -r ../requirements.txt (line 102)) (8.0.4)\n",
      "Requirement already satisfied: pytz==2024.2 in c:\\users\\jules\\anaconda3\\envs\\potatoes\\lib\\site-packages (from -r ../requirements.txt (line 103)) (2024.2)\n",
      "Requirement already satisfied: pywin32==307 in c:\\users\\jules\\anaconda3\\envs\\potatoes\\lib\\site-packages (from -r ../requirements.txt (line 104)) (307)\n",
      "Requirement already satisfied: pywinpty==2.0.14 in c:\\users\\jules\\anaconda3\\envs\\potatoes\\lib\\site-packages (from -r ../requirements.txt (line 105)) (2.0.14)\n",
      "Requirement already satisfied: PyYAML==6.0.2 in c:\\users\\jules\\anaconda3\\envs\\potatoes\\lib\\site-packages (from -r ../requirements.txt (line 106)) (6.0.2)\n",
      "Requirement already satisfied: pyzmq==26.2.0 in c:\\users\\jules\\anaconda3\\envs\\potatoes\\lib\\site-packages (from -r ../requirements.txt (line 107)) (26.2.0)\n",
      "Requirement already satisfied: referencing==0.35.1 in c:\\users\\jules\\anaconda3\\envs\\potatoes\\lib\\site-packages (from -r ../requirements.txt (line 108)) (0.35.1)\n",
      "Requirement already satisfied: requests==2.32.3 in c:\\users\\jules\\anaconda3\\envs\\potatoes\\lib\\site-packages (from -r ../requirements.txt (line 109)) (2.32.3)\n",
      "Requirement already satisfied: rfc3339-validator==0.1.4 in c:\\users\\jules\\anaconda3\\envs\\potatoes\\lib\\site-packages (from -r ../requirements.txt (line 110)) (0.1.4)\n",
      "Requirement already satisfied: rfc3986-validator==0.1.1 in c:\\users\\jules\\anaconda3\\envs\\potatoes\\lib\\site-packages (from -r ../requirements.txt (line 111)) (0.1.1)\n",
      "Requirement already satisfied: rich==13.9.4 in c:\\users\\jules\\anaconda3\\envs\\potatoes\\lib\\site-packages (from -r ../requirements.txt (line 112)) (13.9.4)\n",
      "Requirement already satisfied: rpds-py==0.21.0 in c:\\users\\jules\\anaconda3\\envs\\potatoes\\lib\\site-packages (from -r ../requirements.txt (line 113)) (0.21.0)\n",
      "Requirement already satisfied: scipy==1.14.1 in c:\\users\\jules\\anaconda3\\envs\\potatoes\\lib\\site-packages (from -r ../requirements.txt (line 114)) (1.14.1)\n",
      "Requirement already satisfied: seaborn==0.13.2 in c:\\users\\jules\\anaconda3\\envs\\potatoes\\lib\\site-packages (from -r ../requirements.txt (line 115)) (0.13.2)\n",
      "Requirement already satisfied: Send2Trash==1.8.3 in c:\\users\\jules\\anaconda3\\envs\\potatoes\\lib\\site-packages (from -r ../requirements.txt (line 116)) (1.8.3)\n",
      "Requirement already satisfied: setuptools==75.1.0 in c:\\users\\jules\\anaconda3\\envs\\potatoes\\lib\\site-packages (from -r ../requirements.txt (line 117)) (75.1.0)\n",
      "Requirement already satisfied: six==1.16.0 in c:\\users\\jules\\anaconda3\\envs\\potatoes\\lib\\site-packages (from -r ../requirements.txt (line 118)) (1.16.0)\n",
      "Requirement already satisfied: sniffio==1.3.1 in c:\\users\\jules\\anaconda3\\envs\\potatoes\\lib\\site-packages (from -r ../requirements.txt (line 119)) (1.3.1)\n",
      "Requirement already satisfied: soupsieve==2.6 in c:\\users\\jules\\anaconda3\\envs\\potatoes\\lib\\site-packages (from -r ../requirements.txt (line 120)) (2.6)\n",
      "Requirement already satisfied: stack-data==0.6.2 in c:\\users\\jules\\anaconda3\\envs\\potatoes\\lib\\site-packages (from -r ../requirements.txt (line 121)) (0.6.2)\n",
      "Requirement already satisfied: tensorboard==2.18.0 in c:\\users\\jules\\anaconda3\\envs\\potatoes\\lib\\site-packages (from -r ../requirements.txt (line 122)) (2.18.0)\n",
      "Requirement already satisfied: tensorboard-data-server==0.7.2 in c:\\users\\jules\\anaconda3\\envs\\potatoes\\lib\\site-packages (from -r ../requirements.txt (line 123)) (0.7.2)\n",
      "Requirement already satisfied: tensorflow==2.18.0 in c:\\users\\jules\\anaconda3\\envs\\potatoes\\lib\\site-packages (from -r ../requirements.txt (line 124)) (2.18.0)\n",
      "Requirement already satisfied: tensorflow_intel==2.18.0 in c:\\users\\jules\\anaconda3\\envs\\potatoes\\lib\\site-packages (from -r ../requirements.txt (line 125)) (2.18.0)\n",
      "Requirement already satisfied: tensorflow-io-gcs-filesystem==0.31.0 in c:\\users\\jules\\anaconda3\\envs\\potatoes\\lib\\site-packages (from -r ../requirements.txt (line 126)) (0.31.0)\n",
      "Requirement already satisfied: termcolor==2.5.0 in c:\\users\\jules\\anaconda3\\envs\\potatoes\\lib\\site-packages (from -r ../requirements.txt (line 127)) (2.5.0)\n",
      "Requirement already satisfied: terminado==0.18.1 in c:\\users\\jules\\anaconda3\\envs\\potatoes\\lib\\site-packages (from -r ../requirements.txt (line 128)) (0.18.1)\n",
      "Requirement already satisfied: text-unidecode==1.3 in c:\\users\\jules\\anaconda3\\envs\\potatoes\\lib\\site-packages (from -r ../requirements.txt (line 129)) (1.3)\n",
      "Requirement already satisfied: tinycss2==1.4.0 in c:\\users\\jules\\anaconda3\\envs\\potatoes\\lib\\site-packages (from -r ../requirements.txt (line 130)) (1.4.0)\n",
      "Requirement already satisfied: tornado==6.4.1 in c:\\users\\jules\\anaconda3\\envs\\potatoes\\lib\\site-packages (from -r ../requirements.txt (line 131)) (6.4.1)\n",
      "Requirement already satisfied: tqdm==4.67.0 in c:\\users\\jules\\anaconda3\\envs\\potatoes\\lib\\site-packages (from -r ../requirements.txt (line 132)) (4.67.0)\n",
      "Requirement already satisfied: traitlets==5.14.3 in c:\\users\\jules\\anaconda3\\envs\\potatoes\\lib\\site-packages (from -r ../requirements.txt (line 133)) (5.14.3)\n",
      "Requirement already satisfied: types-python-dateutil==2.9.0.20241003 in c:\\users\\jules\\anaconda3\\envs\\potatoes\\lib\\site-packages (from -r ../requirements.txt (line 134)) (2.9.0.20241003)\n",
      "Requirement already satisfied: typing_extensions==4.12.2 in c:\\users\\jules\\anaconda3\\envs\\potatoes\\lib\\site-packages (from -r ../requirements.txt (line 135)) (4.12.2)\n",
      "Requirement already satisfied: tzdata==2024.2 in c:\\users\\jules\\anaconda3\\envs\\potatoes\\lib\\site-packages (from -r ../requirements.txt (line 136)) (2024.2)\n",
      "Requirement already satisfied: uri-template==1.3.0 in c:\\users\\jules\\anaconda3\\envs\\potatoes\\lib\\site-packages (from -r ../requirements.txt (line 137)) (1.3.0)\n",
      "Requirement already satisfied: urllib3==2.2.3 in c:\\users\\jules\\anaconda3\\envs\\potatoes\\lib\\site-packages (from -r ../requirements.txt (line 138)) (2.2.3)\n",
      "Requirement already satisfied: wcwidth==0.2.13 in c:\\users\\jules\\anaconda3\\envs\\potatoes\\lib\\site-packages (from -r ../requirements.txt (line 139)) (0.2.13)\n",
      "Requirement already satisfied: webcolors==24.11.1 in c:\\users\\jules\\anaconda3\\envs\\potatoes\\lib\\site-packages (from -r ../requirements.txt (line 140)) (24.11.1)\n",
      "Requirement already satisfied: webencodings==0.5.1 in c:\\users\\jules\\anaconda3\\envs\\potatoes\\lib\\site-packages (from -r ../requirements.txt (line 141)) (0.5.1)\n",
      "Requirement already satisfied: websocket-client==1.8.0 in c:\\users\\jules\\anaconda3\\envs\\potatoes\\lib\\site-packages (from -r ../requirements.txt (line 142)) (1.8.0)\n",
      "Requirement already satisfied: Werkzeug==3.1.3 in c:\\users\\jules\\anaconda3\\envs\\potatoes\\lib\\site-packages (from -r ../requirements.txt (line 143)) (3.1.3)\n",
      "Requirement already satisfied: wheel==0.44.0 in c:\\users\\jules\\anaconda3\\envs\\potatoes\\lib\\site-packages (from -r ../requirements.txt (line 144)) (0.44.0)\n",
      "Requirement already satisfied: widgetsnbextension==4.0.13 in c:\\users\\jules\\anaconda3\\envs\\potatoes\\lib\\site-packages (from -r ../requirements.txt (line 145)) (4.0.13)\n",
      "Requirement already satisfied: wrapt==1.16.0 in c:\\users\\jules\\anaconda3\\envs\\potatoes\\lib\\site-packages (from -r ../requirements.txt (line 146)) (1.16.0)\n",
      "Requirement already satisfied: zipp==3.21.0 in c:\\users\\jules\\anaconda3\\envs\\potatoes\\lib\\site-packages (from -r ../requirements.txt (line 147)) (3.21.0)\n",
      "Note: you may need to restart the kernel to use updated packages.\n"
     ]
    }
   ],
   "source": [
    "%pip install -r ../requirements.txt"
   ]
  },
  {
   "cell_type": "markdown",
   "metadata": {
    "id": "cqP-UeN-z3i2"
   },
   "source": [
    "# Change working directory"
   ]
  },
  {
   "cell_type": "markdown",
   "metadata": {},
   "source": [
    "* We are assuming you will store the notebooks in a subfolder, therefore when running the notebook in the editor, you will need to change the working directory"
   ]
  },
  {
   "cell_type": "markdown",
   "metadata": {
    "id": "aOGIGS-uz3i2"
   },
   "source": [
    "We need to change the working directory from its current folder to its parent folder\n",
    "* We access the current directory with os.getcwd()"
   ]
  },
  {
   "cell_type": "code",
   "execution_count": 2,
   "metadata": {
    "id": "wZfF_j-Bz3i4",
    "outputId": "66943449-1436-4c3d-85c7-b85f9f78349b"
   },
   "outputs": [
    {
     "data": {
      "text/plain": [
       "'c:\\\\Users\\\\jules\\\\Desktop\\\\coding\\\\potato-leaf-diseases\\\\jupyter_notebooks'"
      ]
     },
     "execution_count": 2,
     "metadata": {},
     "output_type": "execute_result"
    }
   ],
   "source": [
    "import os\n",
    "current_dir = os.getcwd()\n",
    "current_dir"
   ]
  },
  {
   "cell_type": "markdown",
   "metadata": {
    "id": "9MWW8E7lz3i7"
   },
   "source": [
    "We want to make the parent of the current directory the new current directory\n",
    "* os.path.dirname() gets the parent directory\n",
    "* os.chir() defines the new current directory"
   ]
  },
  {
   "cell_type": "code",
   "execution_count": 3,
   "metadata": {
    "id": "TwHsQRWjz3i9",
    "outputId": "86849db3-cd2f-4cc5-ebb8-2d0caafa1a2c"
   },
   "outputs": [
    {
     "name": "stdout",
     "output_type": "stream",
     "text": [
      "You set a new current directory\n"
     ]
    }
   ],
   "source": [
    "os.chdir(os.path.dirname(current_dir))\n",
    "print(\"You set a new current directory\")"
   ]
  },
  {
   "cell_type": "markdown",
   "metadata": {
    "id": "M_xPk_Ijz3i-"
   },
   "source": [
    "Confirm the new current directory"
   ]
  },
  {
   "cell_type": "code",
   "execution_count": 4,
   "metadata": {
    "id": "vz3S-_kjz3jA",
    "outputId": "00b79ae4-75d0-4a96-d193-ac9ef9847ea2"
   },
   "outputs": [
    {
     "data": {
      "text/plain": [
       "'c:\\\\Users\\\\jules\\\\Desktop\\\\coding\\\\potato-leaf-diseases'"
      ]
     },
     "execution_count": 4,
     "metadata": {},
     "output_type": "execute_result"
    }
   ],
   "source": [
    "current_dir = os.getcwd()\n",
    "current_dir"
   ]
  },
  {
   "cell_type": "markdown",
   "metadata": {
    "id": "-mavJ8DibrcQ"
   },
   "source": [
    "# Installing Kaggle"
   ]
  },
  {
   "cell_type": "code",
   "execution_count": 5,
   "metadata": {},
   "outputs": [
    {
     "name": "stdout",
     "output_type": "stream",
     "text": [
      "Requirement already satisfied: kaggle in c:\\users\\jules\\anaconda3\\envs\\potatoes\\lib\\site-packages (1.6.17)\n",
      "Requirement already satisfied: six>=1.10 in c:\\users\\jules\\anaconda3\\envs\\potatoes\\lib\\site-packages (from kaggle) (1.16.0)\n",
      "Requirement already satisfied: certifi>=2023.7.22 in c:\\users\\jules\\anaconda3\\envs\\potatoes\\lib\\site-packages (from kaggle) (2024.8.30)\n",
      "Requirement already satisfied: python-dateutil in c:\\users\\jules\\anaconda3\\envs\\potatoes\\lib\\site-packages (from kaggle) (2.9.0.post0)\n",
      "Requirement already satisfied: requests in c:\\users\\jules\\anaconda3\\envs\\potatoes\\lib\\site-packages (from kaggle) (2.32.3)\n",
      "Requirement already satisfied: tqdm in c:\\users\\jules\\anaconda3\\envs\\potatoes\\lib\\site-packages (from kaggle) (4.67.0)\n",
      "Requirement already satisfied: python-slugify in c:\\users\\jules\\anaconda3\\envs\\potatoes\\lib\\site-packages (from kaggle) (8.0.4)\n",
      "Requirement already satisfied: urllib3 in c:\\users\\jules\\anaconda3\\envs\\potatoes\\lib\\site-packages (from kaggle) (2.2.3)\n",
      "Requirement already satisfied: bleach in c:\\users\\jules\\anaconda3\\envs\\potatoes\\lib\\site-packages (from kaggle) (6.2.0)\n",
      "Requirement already satisfied: webencodings in c:\\users\\jules\\anaconda3\\envs\\potatoes\\lib\\site-packages (from bleach->kaggle) (0.5.1)\n",
      "Requirement already satisfied: text-unidecode>=1.3 in c:\\users\\jules\\anaconda3\\envs\\potatoes\\lib\\site-packages (from python-slugify->kaggle) (1.3)\n",
      "Requirement already satisfied: charset-normalizer<4,>=2 in c:\\users\\jules\\anaconda3\\envs\\potatoes\\lib\\site-packages (from requests->kaggle) (3.4.0)\n",
      "Requirement already satisfied: idna<4,>=2.5 in c:\\users\\jules\\anaconda3\\envs\\potatoes\\lib\\site-packages (from requests->kaggle) (3.10)\n",
      "Requirement already satisfied: colorama in c:\\users\\jules\\anaconda3\\envs\\potatoes\\lib\\site-packages (from tqdm->kaggle) (0.4.6)\n",
      "Note: you may need to restart the kernel to use updated packages.\n"
     ]
    }
   ],
   "source": [
    "# install kaggle package\n",
    "%pip install kaggle"
   ]
  },
  {
   "cell_type": "markdown",
   "metadata": {},
   "source": [
    "Run the cell below **to change the Kaggle configuration directory to the current working directory and set permissions for the Kaggle authentication JSON**."
   ]
  },
  {
   "cell_type": "code",
   "execution_count": 6,
   "metadata": {},
   "outputs": [
    {
     "name": "stderr",
     "output_type": "stream",
     "text": [
      "'chmod' is not recognized as an internal or external command,\n",
      "operable program or batch file.\n"
     ]
    }
   ],
   "source": [
    "os.environ['KAGGLE_CONFIG_DIR'] = os.getcwd()\n",
    "! chmod 600 kaggle.json"
   ]
  },
  {
   "cell_type": "markdown",
   "metadata": {},
   "source": [
    "- We will now download the data from kaggle. Our data path is 'warcoder/potato-leaf-disease-dataset' (the last part of the [URL](https://www.kaggle.com/datasets/warcoder/potato-leaf-disease-dataset))\n",
    "\n",
    "- **Make sure you have your Kaggle.json file in the directory**"
   ]
  },
  {
   "cell_type": "code",
   "execution_count": 7,
   "metadata": {},
   "outputs": [
    {
     "name": "stdout",
     "output_type": "stream",
     "text": [
      "Dataset URL: https://www.kaggle.com/datasets/warcoder/potato-leaf-disease-dataset\n",
      "License(s): Attribution 4.0 International (CC BY 4.0)\n",
      "Downloading potato-leaf-disease-dataset.zip to inputs/leaves_dataset\n",
      "\n"
     ]
    },
    {
     "name": "stderr",
     "output_type": "stream",
     "text": [
      "\n",
      "  0%|          | 0.00/719M [00:00<?, ?B/s]\n",
      "  0%|          | 1.00M/719M [00:00<06:22, 1.97MB/s]\n",
      "  0%|          | 2.00M/719M [00:00<03:20, 3.75MB/s]\n",
      "  1%|          | 4.00M/719M [00:00<01:43, 7.27MB/s]\n",
      "  1%|          | 6.00M/719M [00:00<01:13, 10.1MB/s]\n",
      "  1%|          | 8.00M/719M [00:00<00:59, 12.6MB/s]\n",
      "  2%|▏         | 11.0M/719M [00:01<00:47, 15.6MB/s]\n",
      "  2%|▏         | 14.0M/719M [00:01<00:40, 18.2MB/s]\n",
      "  2%|▏         | 16.0M/719M [00:01<00:41, 17.6MB/s]\n",
      "  3%|▎         | 20.0M/719M [00:01<00:33, 21.8MB/s]\n",
      "  3%|▎         | 23.0M/719M [00:01<00:32, 22.6MB/s]\n",
      "  4%|▎         | 26.0M/719M [00:01<00:32, 22.7MB/s]\n",
      "  4%|▍         | 29.0M/719M [00:01<00:31, 23.2MB/s]\n",
      "  4%|▍         | 32.0M/719M [00:02<00:30, 23.9MB/s]\n",
      "  5%|▍         | 35.0M/719M [00:02<00:29, 24.4MB/s]\n",
      "  5%|▌         | 38.0M/719M [00:02<00:28, 25.0MB/s]\n",
      "  6%|▌         | 41.0M/719M [00:02<00:28, 25.4MB/s]\n",
      "  6%|▌         | 44.0M/719M [00:02<00:27, 25.8MB/s]\n",
      "  7%|▋         | 47.0M/719M [00:02<00:26, 26.3MB/s]\n",
      "  7%|▋         | 50.0M/719M [00:02<00:25, 27.4MB/s]\n",
      "  8%|▊         | 55.0M/719M [00:02<00:21, 32.5MB/s]\n",
      "  8%|▊         | 60.0M/719M [00:02<00:19, 35.5MB/s]\n",
      "  9%|▉         | 64.0M/719M [00:03<00:18, 36.6MB/s]\n",
      "  9%|▉         | 68.0M/719M [00:03<00:18, 36.5MB/s]\n",
      " 10%|█         | 73.0M/719M [00:03<00:17, 38.7MB/s]\n",
      " 11%|█         | 77.0M/719M [00:03<00:17, 38.7MB/s]\n",
      " 11%|█▏        | 81.0M/719M [00:03<00:17, 38.7MB/s]\n",
      " 12%|█▏        | 85.0M/719M [00:03<00:17, 38.6MB/s]\n",
      " 13%|█▎        | 90.0M/719M [00:03<00:16, 41.1MB/s]\n",
      " 13%|█▎        | 95.0M/719M [00:03<00:18, 36.0MB/s]\n",
      " 14%|█▍        | 101M/719M [00:04<00:15, 42.3MB/s] \n",
      " 15%|█▍        | 106M/719M [00:04<00:15, 40.5MB/s]\n",
      " 15%|█▌        | 111M/719M [00:04<00:15, 39.9MB/s]\n",
      " 16%|█▌        | 115M/719M [00:04<00:16, 38.9MB/s]\n",
      " 17%|█▋        | 119M/719M [00:04<00:16, 38.7MB/s]\n",
      " 17%|█▋        | 123M/719M [00:04<00:16, 38.6MB/s]\n",
      " 18%|█▊        | 127M/719M [00:04<00:16, 38.3MB/s]\n",
      " 18%|█▊        | 131M/719M [00:04<00:16, 37.9MB/s]\n",
      " 19%|█▉        | 135M/719M [00:04<00:16, 37.8MB/s]\n",
      " 19%|█▉        | 139M/719M [00:05<00:16, 37.6MB/s]\n",
      " 20%|█▉        | 143M/719M [00:05<00:15, 37.9MB/s]\n",
      " 20%|██        | 147M/719M [00:05<00:21, 28.4MB/s]\n",
      " 21%|██        | 151M/719M [00:05<00:20, 29.1MB/s]\n",
      " 22%|██▏       | 155M/719M [00:05<00:18, 31.7MB/s]\n",
      " 22%|██▏       | 159M/719M [00:05<00:17, 33.8MB/s]\n",
      " 23%|██▎       | 163M/719M [00:05<00:16, 35.2MB/s]\n",
      " 23%|██▎       | 167M/719M [00:06<00:15, 36.4MB/s]\n",
      " 24%|██▍       | 172M/719M [00:06<00:14, 38.9MB/s]\n",
      " 25%|██▍       | 177M/719M [00:06<00:13, 40.7MB/s]\n",
      " 25%|██▌       | 182M/719M [00:06<00:13, 41.5MB/s]\n",
      " 26%|██▌       | 187M/719M [00:06<00:13, 42.6MB/s]\n",
      " 27%|██▋       | 192M/719M [00:06<00:12, 43.2MB/s]\n",
      " 27%|██▋       | 197M/719M [00:06<00:12, 43.0MB/s]\n",
      " 28%|██▊       | 202M/719M [00:06<00:13, 40.8MB/s]\n",
      " 29%|██▉       | 207M/719M [00:06<00:12, 42.5MB/s]\n",
      " 30%|██▉       | 212M/719M [00:07<00:12, 43.2MB/s]\n",
      " 30%|███       | 217M/719M [00:07<00:12, 43.4MB/s]\n",
      " 31%|███       | 222M/719M [00:07<00:12, 42.8MB/s]\n",
      " 32%|███▏      | 227M/719M [00:07<00:11, 44.2MB/s]\n",
      " 32%|███▏      | 232M/719M [00:07<00:11, 44.7MB/s]\n",
      " 33%|███▎      | 237M/719M [00:07<00:11, 44.0MB/s]\n",
      " 34%|███▎      | 242M/719M [00:07<00:11, 43.5MB/s]\n",
      " 34%|███▍      | 247M/719M [00:07<00:11, 43.2MB/s]\n",
      " 35%|███▌      | 252M/719M [00:08<00:12, 40.2MB/s]\n",
      " 36%|███▌      | 256M/719M [00:08<00:12, 40.3MB/s]\n",
      " 36%|███▋      | 261M/719M [00:08<00:11, 41.8MB/s]\n",
      " 37%|███▋      | 266M/719M [00:08<00:11, 39.8MB/s]\n",
      " 38%|███▊      | 270M/719M [00:08<00:12, 39.0MB/s]\n",
      " 38%|███▊      | 275M/719M [00:08<00:11, 41.5MB/s]\n",
      " 39%|███▉      | 280M/719M [00:08<00:10, 42.7MB/s]\n",
      " 40%|███▉      | 285M/719M [00:08<00:10, 42.5MB/s]\n",
      " 40%|████      | 290M/719M [00:09<00:10, 41.6MB/s]\n",
      " 41%|████      | 294M/719M [00:09<00:11, 37.8MB/s]\n",
      " 42%|████▏     | 299M/719M [00:09<00:11, 38.9MB/s]\n",
      " 42%|████▏     | 303M/719M [00:09<00:11, 37.0MB/s]\n",
      " 43%|████▎     | 307M/719M [00:09<00:12, 35.9MB/s]\n",
      " 43%|████▎     | 311M/719M [00:09<00:12, 35.2MB/s]\n",
      " 44%|████▍     | 315M/719M [00:09<00:12, 34.5MB/s]\n",
      " 44%|████▍     | 319M/719M [00:09<00:12, 34.4MB/s]\n",
      " 45%|████▍     | 323M/719M [00:10<00:12, 34.0MB/s]\n",
      " 46%|████▌     | 327M/719M [00:10<00:12, 32.7MB/s]\n",
      " 46%|████▌     | 332M/719M [00:10<00:11, 35.5MB/s]\n",
      " 47%|████▋     | 336M/719M [00:10<00:10, 36.8MB/s]\n",
      " 47%|████▋     | 341M/719M [00:10<00:10, 38.5MB/s]\n",
      " 48%|████▊     | 346M/719M [00:10<00:09, 40.1MB/s]\n",
      " 49%|████▊     | 350M/719M [00:10<00:09, 40.5MB/s]\n",
      " 49%|████▉     | 354M/719M [00:10<00:09, 40.8MB/s]\n",
      " 50%|████▉     | 358M/719M [00:10<00:09, 40.2MB/s]\n",
      " 51%|█████     | 363M/719M [00:11<00:08, 41.5MB/s]\n",
      " 51%|█████     | 368M/719M [00:11<00:08, 41.6MB/s]\n",
      " 52%|█████▏    | 372M/719M [00:11<00:08, 41.5MB/s]\n",
      " 52%|█████▏    | 376M/719M [00:11<00:08, 41.5MB/s]\n",
      " 53%|█████▎    | 380M/719M [00:11<00:08, 41.3MB/s]\n",
      " 54%|█████▎    | 385M/719M [00:11<00:08, 41.7MB/s]\n",
      " 54%|█████▍    | 389M/719M [00:11<00:08, 41.6MB/s]\n",
      " 55%|█████▍    | 393M/719M [00:11<00:08, 41.3MB/s]\n",
      " 55%|█████▌    | 398M/719M [00:11<00:08, 41.6MB/s]\n",
      " 56%|█████▌    | 403M/719M [00:12<00:07, 41.6MB/s]\n",
      " 57%|█████▋    | 408M/719M [00:12<00:07, 41.5MB/s]\n",
      " 57%|█████▋    | 412M/719M [00:12<00:07, 40.9MB/s]\n",
      " 58%|█████▊    | 416M/719M [00:12<00:07, 40.8MB/s]\n",
      " 59%|█████▊    | 421M/719M [00:12<00:07, 41.3MB/s]\n",
      " 59%|█████▉    | 425M/719M [00:12<00:07, 41.1MB/s]\n",
      " 60%|█████▉    | 430M/719M [00:12<00:07, 41.7MB/s]\n",
      " 61%|██████    | 435M/719M [00:12<00:07, 41.8MB/s]\n",
      " 61%|██████    | 439M/719M [00:13<00:07, 37.0MB/s]\n",
      " 62%|██████▏   | 444M/719M [00:13<00:07, 38.7MB/s]\n",
      " 62%|██████▏   | 448M/719M [00:13<00:07, 39.5MB/s]\n",
      " 63%|██████▎   | 453M/719M [00:13<00:06, 40.2MB/s]\n",
      " 64%|██████▎   | 458M/719M [00:13<00:06, 41.0MB/s]\n",
      " 64%|██████▍   | 462M/719M [00:13<00:06, 40.5MB/s]\n",
      " 65%|██████▍   | 467M/719M [00:13<00:06, 42.1MB/s]\n",
      " 66%|██████▌   | 472M/719M [00:13<00:06, 42.1MB/s]\n",
      " 66%|██████▋   | 477M/719M [00:14<00:06, 42.2MB/s]\n",
      " 67%|██████▋   | 482M/719M [00:14<00:05, 42.5MB/s]\n",
      " 68%|██████▊   | 487M/719M [00:14<00:06, 40.2MB/s]\n",
      " 68%|██████▊   | 491M/719M [00:14<00:07, 30.0MB/s]\n",
      " 69%|██████▉   | 496M/719M [00:14<00:06, 33.5MB/s]\n",
      " 70%|██████▉   | 501M/719M [00:14<00:06, 36.4MB/s]\n",
      " 70%|███████   | 506M/719M [00:14<00:05, 38.4MB/s]\n",
      " 71%|███████   | 511M/719M [00:15<00:05, 39.1MB/s]\n",
      " 72%|███████▏  | 516M/719M [00:15<00:05, 39.9MB/s]\n",
      " 73%|███████▎  | 521M/719M [00:15<00:05, 40.9MB/s]\n",
      " 73%|███████▎  | 525M/719M [00:15<00:04, 40.7MB/s]\n",
      " 74%|███████▎  | 529M/719M [00:15<00:04, 40.7MB/s]\n",
      " 74%|███████▍  | 534M/719M [00:15<00:04, 41.2MB/s]\n",
      " 75%|███████▌  | 539M/719M [00:15<00:04, 42.7MB/s]\n",
      " 76%|███████▌  | 544M/719M [00:15<00:04, 43.1MB/s]\n",
      " 76%|███████▋  | 549M/719M [00:15<00:04, 43.7MB/s]\n",
      " 77%|███████▋  | 554M/719M [00:16<00:03, 44.0MB/s]\n",
      " 78%|███████▊  | 559M/719M [00:16<00:03, 44.1MB/s]\n",
      " 78%|███████▊  | 564M/719M [00:16<00:03, 43.6MB/s]\n",
      " 79%|███████▉  | 569M/719M [00:16<00:03, 41.0MB/s]\n",
      " 80%|███████▉  | 574M/719M [00:16<00:03, 42.2MB/s]\n",
      " 81%|████████  | 579M/719M [00:16<00:03, 41.8MB/s]\n",
      " 81%|████████▏ | 584M/719M [00:16<00:03, 43.1MB/s]\n",
      " 82%|████████▏ | 589M/719M [00:16<00:03, 43.3MB/s]\n",
      " 83%|████████▎ | 594M/719M [00:17<00:03, 39.9MB/s]\n",
      " 83%|████████▎ | 598M/719M [00:17<00:03, 40.1MB/s]\n",
      " 84%|████████▍ | 603M/719M [00:17<00:02, 41.6MB/s]\n",
      " 85%|████████▍ | 608M/719M [00:17<00:02, 41.9MB/s]\n",
      " 85%|████████▌ | 613M/719M [00:17<00:02, 40.8MB/s]\n",
      " 86%|████████▌ | 618M/719M [00:17<00:02, 41.7MB/s]\n",
      " 87%|████████▋ | 623M/719M [00:17<00:02, 42.7MB/s]\n",
      " 87%|████████▋ | 628M/719M [00:17<00:02, 41.2MB/s]\n",
      " 88%|████████▊ | 632M/719M [00:18<00:02, 41.1MB/s]\n",
      " 89%|████████▊ | 637M/719M [00:18<00:02, 41.8MB/s]\n",
      " 89%|████████▉ | 642M/719M [00:18<00:01, 42.9MB/s]\n",
      " 90%|█████████ | 647M/719M [00:18<00:01, 43.2MB/s]\n",
      " 91%|█████████ | 652M/719M [00:18<00:01, 43.7MB/s]\n",
      " 91%|█████████▏| 657M/719M [00:18<00:01, 43.3MB/s]\n",
      " 92%|█████████▏| 662M/719M [00:18<00:01, 43.3MB/s]\n",
      " 93%|█████████▎| 667M/719M [00:18<00:01, 44.3MB/s]\n",
      " 94%|█████████▎| 672M/719M [00:18<00:01, 44.2MB/s]\n",
      " 94%|█████████▍| 677M/719M [00:19<00:00, 44.1MB/s]\n",
      " 95%|█████████▍| 682M/719M [00:19<00:00, 44.2MB/s]\n",
      " 96%|█████████▌| 687M/719M [00:19<00:00, 43.1MB/s]\n",
      " 96%|█████████▋| 692M/719M [00:19<00:00, 43.6MB/s]\n",
      " 97%|█████████▋| 697M/719M [00:19<00:00, 34.1MB/s]\n",
      " 98%|█████████▊| 701M/719M [00:19<00:00, 33.9MB/s]\n",
      " 98%|█████████▊| 706M/719M [00:19<00:00, 36.3MB/s]\n",
      " 99%|█████████▉| 710M/719M [00:20<00:00, 37.6MB/s]\n",
      " 99%|█████████▉| 714M/719M [00:20<00:00, 33.9MB/s]\n",
      "100%|█████████▉| 718M/719M [00:20<00:00, 33.4MB/s]\n",
      "100%|██████████| 719M/719M [00:20<00:00, 37.1MB/s]\n"
     ]
    }
   ],
   "source": [
    "KaggleDatasetPath = \"warcoder/potato-leaf-disease-dataset\"\n",
    "DestinationFolder = \"inputs/leaves_dataset\"   \n",
    "! kaggle datasets download -d {KaggleDatasetPath} -p {DestinationFolder}"
   ]
  },
  {
   "cell_type": "markdown",
   "metadata": {},
   "source": [
    "We will now unzip the downloaded file, and delete the zip file."
   ]
  },
  {
   "cell_type": "code",
   "execution_count": 8,
   "metadata": {},
   "outputs": [],
   "source": [
    "import zipfile\n",
    "with zipfile.ZipFile(DestinationFolder + '/potato-leaf-disease-dataset.zip', 'r') as zip_ref:\n",
    "    zip_ref.extractall(DestinationFolder)\n",
    "\n",
    "os.remove(DestinationFolder + '/potato-leaf-disease-dataset.zip')"
   ]
  },
  {
   "cell_type": "code",
   "execution_count": 9,
   "metadata": {},
   "outputs": [],
   "source": [
    "os.rename(DestinationFolder + '/Potato Leaf Disease Dataset in Uncontrolled Environment', DestinationFolder + '/leaf_images')"
   ]
  },
  {
   "cell_type": "markdown",
   "metadata": {
    "id": "ZY3l0-AxO93d"
   },
   "source": [
    "---"
   ]
  },
  {
   "cell_type": "markdown",
   "metadata": {
    "id": "uFQo3ycuO-v6"
   },
   "source": [
    "# Data preperation"
   ]
  },
  {
   "cell_type": "markdown",
   "metadata": {},
   "source": [
    "## Data cleaning"
   ]
  },
  {
   "cell_type": "markdown",
   "metadata": {},
   "source": [
    "### remove non image files"
   ]
  },
  {
   "cell_type": "code",
   "execution_count": 10,
   "metadata": {},
   "outputs": [],
   "source": [
    "def remove_non_image_file(my_data_dir):\n",
    "    image_extension = ('.png', '.jpg', '.jpeg')\n",
    "    folders = os.listdir(my_data_dir)\n",
    "    for folder in folders:\n",
    "        files = os.listdir(my_data_dir + '/' + folder)\n",
    "        i = []\n",
    "        j = []\n",
    "        for given_file in files:\n",
    "            if not given_file.lower().endswith(image_extension):\n",
    "                file_location = my_data_dir + '/' + folder + '/' + given_file\n",
    "                os.remove(file_location)  # remove non image file\n",
    "                i.append(1)\n",
    "            else:\n",
    "                j.append(1)\n",
    "                pass\n",
    "        print(f\"Folder: {folder} - has image file\", len(j))\n",
    "        print(f\"Folder: {folder} - has non-image file\", len(i))\n"
   ]
  },
  {
   "cell_type": "code",
   "execution_count": 11,
   "metadata": {},
   "outputs": [
    {
     "name": "stdout",
     "output_type": "stream",
     "text": [
      "Folder: Bacteria - has image file 569\n",
      "Folder: Bacteria - has non-image file 0\n",
      "Folder: Fungi - has image file 748\n",
      "Folder: Fungi - has non-image file 0\n",
      "Folder: Healthy - has image file 201\n",
      "Folder: Healthy - has non-image file 0\n",
      "Folder: Nematode - has image file 68\n",
      "Folder: Nematode - has non-image file 0\n",
      "Folder: Pest - has image file 611\n",
      "Folder: Pest - has non-image file 0\n",
      "Folder: Phytopthora - has image file 347\n",
      "Folder: Phytopthora - has non-image file 0\n",
      "Folder: Virus - has image file 532\n",
      "Folder: Virus - has non-image file 0\n"
     ]
    }
   ],
   "source": [
    "remove_non_image_file(my_data_dir='inputs/leaves_dataset/leaf_images')"
   ]
  },
  {
   "cell_type": "code",
   "execution_count": 12,
   "metadata": {},
   "outputs": [],
   "source": [
    "import shutil\n",
    "\n",
    "def join_folders(folders, new_folder_name):\n",
    "    my_data_dir = 'inputs/leaves_dataset/leaf_images'\n",
    "    os.makedirs(name=my_data_dir + '/' + new_folder_name)\n",
    "    for folder in folders:\n",
    "        files = os.listdir(my_data_dir + '/' + folder)\n",
    "        for file in files:\n",
    "            shutil.copy(my_data_dir + '/' + folder + '/' + file, my_data_dir + '/' + new_folder_name + '/' + file)\n",
    "        shutil.rmtree(my_data_dir + '/' + folder)"
   ]
  },
  {
   "cell_type": "code",
   "execution_count": 13,
   "metadata": {},
   "outputs": [],
   "source": [
    "folders = ['Virus', 'Pest', 'Nematode', 'Fungi']\n",
    "new_folder_name = 'Others'\n",
    "join_folders(folders, new_folder_name)\n",
    "shutil.rmtree('inputs/leaves_dataset/leaf_images/Others')\n"
   ]
  },
  {
   "cell_type": "markdown",
   "metadata": {},
   "source": [
    "## Split train validation test set"
   ]
  },
  {
   "cell_type": "code",
   "execution_count": 14,
   "metadata": {},
   "outputs": [],
   "source": [
    "import os\n",
    "import shutil\n",
    "import random\n",
    "import joblib\n",
    "\n",
    "\n",
    "def split_train_validation_test_images(my_data_dir, train_set_ratio, validation_set_ratio, test_set_ratio):\n",
    "\n",
    "    if train_set_ratio + validation_set_ratio + test_set_ratio != 1.0:\n",
    "        print(\"train_set_ratio + validation_set_ratio + test_set_ratio should sum to 1.0\")\n",
    "        return\n",
    "\n",
    "    # gets classes labels\n",
    "    labels = os.listdir(my_data_dir)  # it should get only the folder name\n",
    "    if 'test' in labels:\n",
    "        pass\n",
    "    else:\n",
    "        # create train, test folders with classes labels sub-folder\n",
    "        for folder in ['train', 'validation', 'test']:\n",
    "            for label in labels:\n",
    "                os.makedirs(name=my_data_dir + '/' + folder + '/' + label)\n",
    "\n",
    "        for label in labels:\n",
    "\n",
    "            files = os.listdir(my_data_dir + '/' + label)\n",
    "            random.seed(42)\n",
    "            random.shuffle(files)\n",
    "\n",
    "            train_set_files_qty = int(len(files) * train_set_ratio)\n",
    "            validation_set_files_qty = int(len(files) * validation_set_ratio)\n",
    "\n",
    "            count = 1\n",
    "            for file_name in files:\n",
    "                if count <= train_set_files_qty:\n",
    "                    # move a given file to the train set\n",
    "                    shutil.move(my_data_dir + '/' + label + '/' + file_name,\n",
    "                                my_data_dir + '/train/' + label + '/' + file_name)\n",
    "\n",
    "                elif count <= (train_set_files_qty + validation_set_files_qty):\n",
    "                    # move a given file to the validation set\n",
    "                    shutil.move(my_data_dir + '/' + label + '/' + file_name,\n",
    "                                my_data_dir + '/validation/' + label + '/' + file_name)\n",
    "\n",
    "                else:\n",
    "                    # move given file to test set\n",
    "                    shutil.move(my_data_dir + '/' + label + '/' + file_name,\n",
    "                                my_data_dir + '/test/' + label + '/' + file_name)\n",
    "\n",
    "                count += 1\n",
    "\n",
    "            os.rmdir(my_data_dir + '/' + label)\n"
   ]
  },
  {
   "cell_type": "markdown",
   "metadata": {},
   "source": [
    "We will be opting for a distribution of:\n",
    "* Training: 0.70 of data.\n",
    "* Validation: 0.10 of data.\n",
    "* Test: 0.20 of data.\n",
    "\n",
    "This is a conventional distribution"
   ]
  },
  {
   "cell_type": "code",
   "execution_count": 15,
   "metadata": {},
   "outputs": [],
   "source": [
    "split_train_validation_test_images(my_data_dir=f\"inputs/leaves_dataset/leaf_images\",\n",
    "                                   train_set_ratio=0.7,\n",
    "                                   validation_set_ratio=0.1,\n",
    "                                   test_set_ratio=0.2\n",
    "                                   )"
   ]
  },
  {
   "cell_type": "markdown",
   "metadata": {},
   "source": [
    "---"
   ]
  },
  {
   "cell_type": "markdown",
   "metadata": {},
   "source": [
    "**There should now be an 'input/leaves_dataset/leaf_images' folder containing a train, test and validation folder**"
   ]
  },
  {
   "cell_type": "markdown",
   "metadata": {},
   "source": [
    "---"
   ]
  }
 ],
 "metadata": {
  "accelerator": "GPU",
  "colab": {
   "name": "Data Practitioner Jupyter Notebook.ipynb",
   "provenance": [],
   "toc_visible": true
  },
  "kernelspec": {
   "display_name": "potatoes",
   "language": "python",
   "name": "python3"
  },
  "language_info": {
   "codemirror_mode": {
    "name": "ipython",
    "version": 3
   },
   "file_extension": ".py",
   "mimetype": "text/x-python",
   "name": "python",
   "nbconvert_exporter": "python",
   "pygments_lexer": "ipython3",
   "version": "3.11.10"
  },
  "orig_nbformat": 2
 },
 "nbformat": 4,
 "nbformat_minor": 2
}
